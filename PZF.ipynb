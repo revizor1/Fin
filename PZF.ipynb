{
 "cells": [
  {
   "cell_type": "code",
   "execution_count": 1,
   "id": "f07e407a",
   "metadata": {
    "editable": true,
    "jupyter": {
     "source_hidden": true
    },
    "scrolled": true,
    "slideshow": {
     "slide_type": ""
    },
    "tags": []
   },
   "outputs": [
    {
     "name": "stdout",
     "output_type": "stream",
     "text": [
      "https://www.etfrc.com/funds/overlap.php\n"
     ]
    }
   ],
   "source": [
    "############\n",
    "# https://stackoverflow.com/questions/69800749/using-python-to-get-holdings-and-allocation-of-etfs\n",
    "# conda env create -f environment.yml\n",
    "# conda install -f environment.yml\n",
    "# conda update -n base conda\n",
    "# conda env update --file environment.yml --prune\n",
    "# print(\"https://www.etfdb.com\")\n",
    "print(\"https://www.etfrc.com/funds/overlap.php\")\n",
    "TRADITIONAL = 'VYM VOT MGK VIG VGT VOO VDE VCR VHT VFH VUG'\n",
    "# \"AIRR CLSE CRPT HTUS IGM KBWP MGK PAVE PKB RSHO SLX SPSM VCR VDE VFH VGT VHT VIG VOO VOT VUG VYM XBI XHB\"\n",
    "ROTH = 'SPYG SCHG QQQ VGT CRPT IGM PAVE PKB XHB' # Roth 2024.03.14. 04.01 -IVW VOO MGK VTI IUSG VUG\n",
    "\n",
    "BASE = 'VOT VOO VTI FLMVX FXAIX'\n",
    "CONSTRUCTION = 'AIRR PKB XHB ITB'\n",
    "GROWTH = 'MGK VGT VUG QQQ IVW SCHG SPYG IUSG FCNKX JDMNX MITJX VIGIX'\n",
    "DIV = 'VYM VIG'\n",
    "ENERGY = 'AMZA URNM VDE'\n",
    "INSURANCE = 'KBWP'\n",
    "SECTORS = 'VOX VCR VDC VFH VHT VIS VAW VPU RSHO PRN'\n",
    "INTERNATIONALS = 'VEU VSS VEA VWO VGK VPL VNQI VXUS VT'\n",
    "CRYPTO = 'CRPT'# DAPP BITQ BKCH SATO WGMI IBLC # BITX (2023-06-27) GBTC IBIT (2024-1-11)\n",
    "INFRA = 'PAVE'# IGF IFRA NFRA EMIF RBLD\n",
    "AI = 'IGM IYW FTEC FDN'\n",
    "\n",
    "BENCH = 'VOO CRPT SPSM '# KBWP PAVE IGM VGT QMOM URNM AMZA PKB=XHB SLX\n",
    "TEST = BENCH + \" BTC-USD ETH-USD\"\n",
    "TEST = BENCH + 'CLSE XBI IAI KCE PSP XMMO XSMO UTES HTUS' # HRTS CBLS USE GCAD SLX VDE\n",
    "start = '2020-11-03'"
   ]
  },
  {
   "cell_type": "code",
   "execution_count": 2,
   "id": "98e3e854-f95c-4411-8dbb-ef9bf2035539",
   "metadata": {
    "jupyter": {
     "source_hidden": true
    },
    "tags": []
   },
   "outputs": [
    {
     "data": {
      "text/html": [
       "        <script type=\"text/javascript\">\n",
       "        window.PlotlyConfig = {MathJaxConfig: 'local'};\n",
       "        if (window.MathJax && window.MathJax.Hub && window.MathJax.Hub.Config) {window.MathJax.Hub.Config({SVG: {font: \"STIX-Web\"}});}\n",
       "        if (typeof require !== 'undefined') {\n",
       "        require.undef(\"plotly\");\n",
       "        requirejs.config({\n",
       "            paths: {\n",
       "                'plotly': ['https://cdn.plot.ly/plotly-2.32.0.min']\n",
       "            }\n",
       "        });\n",
       "        require(['plotly'], function(Plotly) {\n",
       "            window._Plotly = Plotly;\n",
       "        });\n",
       "        }\n",
       "        </script>\n",
       "        "
      ]
     },
     "metadata": {},
     "output_type": "display_data"
    }
   ],
   "source": [
    "# Import libraries and pull data\n",
    "import datetime\n",
    "import warnings\n",
    "import re\n",
    "import json\n",
    "import textwrap\n",
    "import numpy as np\n",
    "import pandas as pd\n",
    "# import pandas_ta as ta\n",
    "import yfinance as yf\n",
    "#import quantstats as qs\n",
    "import matplotlib.pyplot as plt\n",
    "import seaborn as sns\n",
    "import cufflinks as cf\n",
    "import plotly.io as pio\n",
    "import plotly.express as px\n",
    "import plotly.graph_objects as go\n",
    "from plotly.subplots import make_subplots\n",
    "from ipywidgets import widgets, interact, interactive\n",
    "from scipy import stats\n",
    "#from sklearn.preprocessing import MinMaxScaler, StandardScaler\n",
    "#from keras.models import Sequential\n",
    "#from keras.layers import Dense, LSTM, Activation\n",
    "from IPython.display import display, clear_output, HTML\n",
    "from yahooquery import Ticker, Screener\n",
    "from pyvis import network as net\n",
    "import networkx as nx\n",
    "\n",
    "cf.go_offline()\n",
    "pio.renderers.default = 'iframe'\n",
    "plt.style.use('dark_background')\n",
    "warnings.filterwarnings(\"ignore\", category=FutureWarning, module=\"yfinance\")\n",
    "warnings.filterwarnings(\"ignore\", category=FutureWarning, module=\"cufflinks\")\n",
    "warnings.filterwarnings(\"ignore\", \"is_categorical_dtype\")\n",
    "warnings.filterwarnings(\"ignore\", \"use_inf_as_na\")\n",
    "warnings.filterwarnings(\"ignore\", \"warn_singular\")\n",
    "warnings.simplefilter(action=\"ignore\", category=pd.errors.PerformanceWarning)\n",
    "template = 'plotly_dark'\n",
    "pd.options.display.float_format = \"{:,.2f}\".format\n",
    "\n",
    "# EPOCH=64\n",
    "# EPOCH=32\n",
    "NOP = 20000 # Number of random portfolio sets\n",
    "risk_free_return = .05\n",
    "rwindow = 6 # How many trading days to aggregate MACD/ RSI for\n",
    "cutoff = 20 # % of samples falling below that satisfy criteria for MACD/ RSI\n",
    "model = 'Sharpe'\n",
    "categories = {\n",
    "    \"ai\": AI,\n",
    "    \"base\": BASE,\n",
    "    \"construction\": CONSTRUCTION,\n",
    "    \"crypto\": CRYPTO,\n",
    "    \"div\": DIV,\n",
    "    \"energy\": ENERGY,\n",
    "    \"growth\": GROWTH,\n",
    "    \"infra\": INFRA,\n",
    "    \"insurance\": INSURANCE,\n",
    "    \"internationals\": INTERNATIONALS,\n",
    "    \"sectors\": SECTORS,\n",
    "}"
   ]
  },
  {
   "cell_type": "code",
   "execution_count": 3,
   "id": "4376d56a-1452-43ea-9176-e9091a997ef0",
   "metadata": {
    "jupyter": {
     "source_hidden": true
    },
    "tags": []
   },
   "outputs": [],
   "source": [
    "def compare_values_ichi(row):\n",
    "    # TODO: distinguish between green and red\n",
    "    if row['Close'] > max([row['senkou_span_a'], row['senkou_span_b']]):\n",
    "        if row['senkou_span_a'] > row['senkou_span_b']:\n",
    "            return 'top left'\n",
    "        elif row['senkou_span_a'] < row['senkou_span_b']:\n",
    "            return 'top right'\n",
    "        return 'top center'\n",
    "    elif row['Close'] < min([row['senkou_span_a'], row['senkou_span_b']]):\n",
    "        if row['senkou_span_a'] < row['senkou_span_b']:\n",
    "            return 'bottom left'\n",
    "        elif row['senkou_span_a'] > row['senkou_span_b']:\n",
    "            return 'bottom right'\n",
    "        return 'bottom center'\n",
    "    else:\n",
    "        return 'middle center'\n",
    "\n",
    "def calc_positions_ichimoku(d):\n",
    "    global idx\n",
    "    columns = d['Low'].columns\n",
    "    # Adding signals for buy/ sell\n",
    "    condition = np.where(\n",
    "        (d['tenkan_sen'] > d['kijun_sen']) &\n",
    "        (d['Close'] > d['tenkan_sen']) &\n",
    "        (\n",
    "            ((d['Close'] > d['senkou_span_a']) & (d['Close'] > d['senkou_span_b'])) |\n",
    "            ((d['Close'] < d['senkou_span_a']) & (d['Close'] < d['senkou_span_b']))\n",
    "        ), 1, 0\n",
    "    )\n",
    "    sgn = pd.DataFrame(condition, columns=columns, index=d.index)\n",
    "    sgn.columns = pd.MultiIndex.from_product([['signal_ichimoku'], columns])\n",
    "    pos = sgn.diff().fillna(0)\n",
    "    pos.columns = pd.MultiIndex.from_product([['position_ichimoku'], columns])\n",
    "    idx.drop(columns='signal_ichimoku', inplace=True, errors='ignore')\n",
    "    idx.drop(columns='position_ichimoku', inplace=True, errors='ignore')\n",
    "    idx = idx.join(pos)\n",
    "    idx = idx.join(sgn)\n",
    "\n",
    "def calc_positions_rsi(d):\n",
    "    global idx\n",
    "    columns = d['Low'].columns\n",
    "    # Adding signals for buy/ sell\n",
    "    indicator='RSI'\n",
    "    period=42\n",
    "    sgn = pd.DataFrame(np.where(d[indicator].rolling(window=period).mean() - idx[indicator] - .3 < 0, 0, 1), columns=columns, index=d.index)\n",
    "    sgn.columns = pd.MultiIndex.from_product([['signal_rsi'], columns])\n",
    "    pos = sgn.diff().fillna(0)\n",
    "    pos.columns = pd.MultiIndex.from_product([['position_rsi'], columns])\n",
    "    idx.drop(columns='signal_rsi', inplace=True, errors='ignore')\n",
    "    idx.drop(columns='position_rsi', inplace=True, errors='ignore')\n",
    "    idx = idx.join(pos)\n",
    "    idx = idx.join(sgn)\n",
    "    \n",
    "def calc_positions_ema(d):\n",
    "    global idx\n",
    "    columns = d['Low'].columns\n",
    "    # Adding signals for buy/ sell\n",
    "    sgn = pd.DataFrame(np.where(d['EMAW'] > d['EMAM'], 1, 0), columns=columns, index=d.index)\n",
    "    sgn.columns = pd.MultiIndex.from_product([['signal_ema'], columns])\n",
    "    pos = sgn.diff().fillna(0)\n",
    "    pos.columns = pd.MultiIndex.from_product([['position_ema'], columns])\n",
    "    idx.drop(columns='signal_ema', inplace=True, errors='ignore')\n",
    "    idx.drop(columns='position_ema', inplace=True, errors='ignore')\n",
    "    idx = idx.join(pos)\n",
    "    idx = idx.join(sgn)\n",
    "\n",
    "def price_bands(period = 42, multiplier = 1.8): # Calculate price bands\n",
    "    global idx\n",
    "    \n",
    "    columns = idx['Low'].columns\n",
    "    \n",
    "    std = idx['Adj Close'].rolling(window=period).std()\n",
    "    std.columns = pd.MultiIndex.from_product([['STD'], columns])\n",
    "    idx = idx.join(std)\n",
    "    \n",
    "    ma = idx['Adj Close'].rolling(window=period).mean()\n",
    "    ma.columns = pd.MultiIndex.from_product([['MA'], columns])\n",
    "    idx = idx.join(ma)\n",
    "    \n",
    "    uband = idx['MA'] + multiplier * idx['STD']\n",
    "    uband.columns = pd.MultiIndex.from_product([['UBAND'], columns])\n",
    "    idx = idx.join(uband)\n",
    "    \n",
    "    lband = idx['MA'] - multiplier * idx['STD']\n",
    "    lband.columns = pd.MultiIndex.from_product([['LBAND'], columns])\n",
    "    idx = idx.join(lband)\n",
    "\n",
    "    emaw = idx['Adj Close'].ewm(span=5, adjust=False).mean()\n",
    "    emaw.columns = pd.MultiIndex.from_product([['EMAW'], columns])\n",
    "    idx = idx.join(emaw)\n",
    "    \n",
    "    emam = idx['Adj Close'].ewm(span=21, adjust=False).mean()\n",
    "    emam.columns = pd.MultiIndex.from_product([['EMAM'], columns])\n",
    "    idx = idx.join(emam)\n",
    "    \n",
    "    # Moving Average Convergence Divergence\n",
    "    mdl = idx['EMAM'] - idx['EMAW']\n",
    "    sgl = mdl.ewm(span=16, adjust=False).mean()\n",
    "    mdh = sgl - mdl\n",
    "    mdh.columns = pd.MultiIndex.from_product([['MACD'], columns])\n",
    "    idx = idx.join(mdh)\n",
    "\n",
    "    # Relative Strength Index\n",
    "    rsi = calculate_rsi(idx)/25-2\n",
    "    rsi.columns = pd.MultiIndex.from_product([['RSI'], columns])\n",
    "    idx = idx.join(rsi)\n",
    "    \n",
    "    idx = calc_ichimoku(idx)\n",
    "    calc_positions_ichimoku(idx)\n",
    "    calc_positions_ema(idx)\n",
    "    calc_positions_rsi(idx)\n",
    "\n",
    "    summary['UBAND'] = idx['UBAND'].iloc[-1]\n",
    "    summary['Adj Close'] = idx['Adj Close'].iloc[-1]\n",
    "    summary['LBAND'] = idx['LBAND'].iloc[-1]\n",
    "\n",
    "    rsi_prc = idx.rolling(rwindow).mean()['RSI'].rank(pct=True) * 100\n",
    "    macd_prc = idx.rolling(rwindow).mean()['MACD'].rank(pct=True) * 100\n",
    "    rsi_prc.columns = pd.MultiIndex.from_product([['RSI_prc'], columns])\n",
    "    idx = idx.join(rsi_prc)\n",
    "    macd_prc.columns = pd.MultiIndex.from_product([['MACD_prc'], columns])\n",
    "    idx = idx.join(macd_prc)\n",
    "    for indicator in ['MACD_prc', 'RSI_prc']:\n",
    "        summary[indicator] = idx[indicator].iloc[-1]\n",
    "\n",
    "def calculate_rsi(data, window=10):\n",
    "    delta = data['Adj Close'].diff()\n",
    "    gain = (delta.where(delta > 0, 0)).rolling(window=window).mean()\n",
    "    loss = (-delta.where(delta < 0, 0)).rolling(window=window).mean()\n",
    "    rs = gain / loss\n",
    "    rsi = 100 - (100 / (1 + rs))\n",
    "    return rsi\n",
    "\n",
    "def fillcol(d):\n",
    "    np.where(d['senkou_span_a'] > d['senkou_span_b'], 'green', 'red')\n",
    "    \n",
    "def calc_ichimoku(d, tenkan_window=9, kijun_window=26, senkou_span_b_window=52, cloud_displacement=26, chikou_shift=26):\n",
    "    last_date = d['Low'].dropna().index[-1]\n",
    "    if type(d['Low']) == pd.core.frame.DataFrame:\n",
    "        columns = d['Low'].columns\n",
    "        # Tenkan-sen (Conversion Line): (9-period high + 9-period low)/2))\n",
    "        nine_period_high = d['High'].rolling(window= tenkan_window).max()\n",
    "        nine_period_low = d['Low'].rolling(window= tenkan_window).min()\n",
    "        tenkan_sen = (nine_period_high + nine_period_low) /2\n",
    "        tenkan_sen.columns = pd.MultiIndex.from_product([['tenkan_sen'], columns])\n",
    "        d = d.join(tenkan_sen)\n",
    "\n",
    "        # Kijun-sen (Base Line): (26-period high + 26-period low)/2))\n",
    "        period26_high = d['High'].rolling(window=kijun_window).max()\n",
    "        period26_low = d['Low'].rolling(window=kijun_window).min()\n",
    "        kijun_sen = (period26_high + period26_low) / 2\n",
    "        kijun_sen.columns = pd.MultiIndex.from_product([['kijun_sen'], columns])\n",
    "        d = d.join(kijun_sen)\n",
    "\n",
    "        # Senkou Span A (Leading Span A): (Conversion Line + Base Line)/2))\n",
    "        senkou_span_a = ((d['tenkan_sen'] + d['kijun_sen']) / 2).shift(cloud_displacement)\n",
    "        senkou_span_a.columns = pd.MultiIndex.from_product([['senkou_span_a'], columns])\n",
    "        d = d.join(senkou_span_a)\n",
    "\n",
    "        # Senkou Span B (Leading Span B): (52-period high + 52-period low)/2))\n",
    "        period52_high = d['High'].rolling(window=senkou_span_b_window).max()\n",
    "        period52_low = d['Low'].rolling(window=senkou_span_b_window).min()\n",
    "        senkou_span_b = ((period52_high + period52_low) / 2).shift(cloud_displacement)\n",
    "        senkou_span_b.columns = pd.MultiIndex.from_product([['senkou_span_b'], columns])\n",
    "        d = d.join(senkou_span_b)\n",
    "\n",
    "        # The most current closing price plotted 26 time periods behind (optional)\n",
    "        chikou_span = d['Close'].shift(-chikou_shift)\n",
    "        chikou_span.columns = pd.MultiIndex.from_product([['chikou_span'], columns])\n",
    "        d = d.join(chikou_span)\n",
    "\n",
    "    else:\n",
    "        # Step 2: Create a new date range for the next 26 business days\n",
    "        new_dates = pd.date_range(start=last_date+pd.Timedelta(days=1), periods=kijun_window, freq=pd.offsets.BDay())\n",
    "        # Step 3: Convert the DatetimeIndex to a DateIndex (i.e., remove the time part)\n",
    "        new_dates = new_dates.date  # This will convert the index to date type\n",
    "        # Step 4: Create a new dataframe with the new business dates (as date type index)\n",
    "        new_data = pd.DataFrame(index=new_dates)\n",
    "        # Step 5: Append the new rows to the original dataframe\n",
    "        d = pd.concat([d, new_data])\n",
    "\n",
    "        # Senkou Span A (Leading Span A): (Conversion Line + Base Line)/2))\n",
    "        d['senkou_span_a'] = ((d['tenkan_sen'] + d['kijun_sen']) / 2).shift(cloud_displacement)\n",
    "\n",
    "        # Senkou Span B (Leading Span B): (52-period high + 52-period low)/2))\n",
    "        period52_high = d['High'].rolling(window=senkou_span_b_window).max()\n",
    "        period52_low = d['Low'].rolling(window=senkou_span_b_window).min()\n",
    "        d['senkou_span_b'] = ((period52_high + period52_low) / 2).shift(cloud_displacement)\n",
    "\n",
    "        # The most current closing price plotted 26 time periods behind (optional)\n",
    "        d['chikou_span'] = d['Close'].shift(-chikou_shift)\n",
    "    return d\n",
    "    \n",
    "def plot2_ichimoku(d, ticker_name='', INCREASING_COLOR='green', DECREASING_COLOR='red', show_rangeslider=False):\n",
    "    fig = go.Figure(data=[go.Candlestick(x=d.index, open=d.Open, high=d.High, low=d.Low, close=d.Close,\n",
    "         increasing_line_color=INCREASING_COLOR, decreasing_line_color=DECREASING_COLOR, showlegend=False)])\n",
    "    kw = {'x': d.index, 'type': 'scatter', 'mode':'lines', 'showlegend': False}#'visible':'legendonly'}\n",
    "\n",
    "    # Add TenkenSen to plot\n",
    "    fig.add_trace(go.Scatter(y=d['tenkan_sen'], name='tenkan_sen', line=dict(color='#33BDFF', width=1), **kw))\n",
    "    # Add kijun_sen to plot\n",
    "    fig.add_trace(go.Scatter(y=d['kijun_sen'], name='kijun_sen', line=dict(color='#F1F316', width=1), **kw))\n",
    "\n",
    "    kw = {'x': d.index, 'type': 'scatter', 'mode':'lines', 'showlegend': False}\n",
    "    # Add senkou_span_a to plot\n",
    "    fig.add_trace(go.Scatter(y=np.where(d['senkou_span_a'] > d['senkou_span_b'], d['senkou_span_a'], d['senkou_span_b']), name='senkou_span_max', line=dict(color='#228B22', width=0), **kw))\n",
    "    fig.add_trace(go.Scatter(\n",
    "        y=d['senkou_span_b'], \n",
    "        fill='tonexty',\n",
    "        fillcolor='rgba(0, 128, 0, 0.25)',\n",
    "        line=dict(color='rgba(0, 128, 0, 0.1)'),\n",
    "        name='senkou_span_a above',\n",
    "        **kw\n",
    "    ))\n",
    "\n",
    "    fig.add_trace(go.Scatter(y=np.where(d['senkou_span_b'] > d['senkou_span_a'], d['senkou_span_b'], d['senkou_span_a']), name='senkou_span_min', line=dict(color='#228B22', width=0), **kw))\n",
    "    fig.add_trace(go.Scatter(\n",
    "        y=d['senkou_span_a'], \n",
    "        fill='tonexty',\n",
    "        fillcolor='rgba(128, 0, 0, 0.25)',\n",
    "        line=dict(color='rgba(128, 0, 0, 0.1)'),\n",
    "        name='senkou_span_b above',\n",
    "        **kw\n",
    "    ))\n",
    "\n",
    "    # Add chikou_span to plot\n",
    "    fig.add_trace(go.Scatter(y=d['chikou_span'], name='chikou_span', line=dict(color='#D105F5', width=1), **kw))\n",
    "    fig.update_layout(xaxis_rangeslider_visible=show_rangeslider)\n",
    "\n",
    "    fig.update_layout(\n",
    "        # title='Ichimoku',\n",
    "        yaxis_title=f'{ticker_name} Price',\n",
    "        xaxis_title='Date',\n",
    "        legend=dict(orientation='h', y=0.1, x=0.1, yanchor='top'),\n",
    "        margin=dict(t=40, b=40, r=40, l=40),\n",
    "        yaxis=dict(type='log'),\n",
    "        template=template,\n",
    "    )\n",
    "    return fig #.show()\n",
    "\n",
    "\n",
    "def ann_risk_return(df):\n",
    "    rdf = df.agg([\"mean\", \"std\"]).T\n",
    "    rdf.columns = [\"Return\", \"Risk\"]\n",
    "    rdf.Return = (df.iloc[-1] / df.iloc[0]) ** (1/(((df.index[-1]-df.index[0]).days)/365)) - 1\n",
    "    rdf.Risk = rdf.Risk * np.sqrt(252)\n",
    "    return rdf\n",
    "\n",
    "def get_sortino(df):\n",
    "    returns = df.pct_change(1).dropna()\n",
    "    downside_returns = returns[returns < 0]\n",
    "    downside_std = np.std(downside_returns, axis=0)\n",
    "    sortino_ratio = returns.mean() / downside_std\n",
    "    return sortino_ratio\n",
    "\n",
    "def get_parent(ticker):\n",
    "    for parent in categories:\n",
    "        if ticker in (categories[parent]).split():\n",
    "            return parent\n",
    "    return summary.loc[ticker,'category']\n",
    "\n",
    "def h_max(s):\n",
    "    try:\n",
    "        is_max = s.astype('float') == s.max()\n",
    "        return ['color: green' if cell else '' for cell in is_max]\n",
    "    except:\n",
    "        return ['' for cell in s]\n",
    "\n",
    "def h_min(s):\n",
    "    try:\n",
    "        is_min= s.astype('float') == s.min()\n",
    "        return ['color: blue' if cell else '' for cell in is_min]\n",
    "    except:\n",
    "        return ['' for cell in s]\n",
    "\n",
    "def h_bull(s):\n",
    "    try:\n",
    "        is_bs = s.astype('str').str.contains('ullish') & ~s.astype('str').str.contains('earish') & ~s.astype('str').str.contains('Weak') & ~s.astype('str').str.contains(' one ')\n",
    "        return ['color: green' if cell else '' for cell in is_bs]\n",
    "    except:\n",
    "        return ['' for cell in s]\n",
    "\n",
    "def h_bear(s):\n",
    "    try:\n",
    "        is_bs = s.astype('str').str.contains('earish') & ~s.astype('str').str.contains('ullish') & ~s.astype('str').str.contains('Weak') & ~s.astype('str').str.contains(' one ')\n",
    "        return ['color: red' if cell else '' for cell in is_bs]\n",
    "    except:\n",
    "        return ['' for cell in s]"
   ]
  },
  {
   "cell_type": "code",
   "execution_count": 4,
   "id": "4be94d7a-689b-4aff-8eba-0ef3a22ea1db",
   "metadata": {
    "jupyter": {
     "source_hidden": true
    },
    "tags": []
   },
   "outputs": [
    {
     "name": "stderr",
     "output_type": "stream",
     "text": [
      "[*********************100%***********************]  12 of 12 completed\n"
     ]
    },
    {
     "name": "stdout",
     "output_type": "stream",
     "text": [
      "\n",
      "Common start: 2022-02-22\n"
     ]
    },
    {
     "data": {
      "text/html": [
       "<div>\n",
       "<style scoped>\n",
       "    .dataframe tbody tr th:only-of-type {\n",
       "        vertical-align: middle;\n",
       "    }\n",
       "\n",
       "    .dataframe tbody tr th {\n",
       "        vertical-align: top;\n",
       "    }\n",
       "\n",
       "    .dataframe thead th {\n",
       "        text-align: right;\n",
       "    }\n",
       "</style>\n",
       "<table border=\"1\" class=\"dataframe\">\n",
       "  <thead>\n",
       "    <tr style=\"text-align: right;\">\n",
       "      <th>Ticker</th>\n",
       "      <th>CLSE</th>\n",
       "      <th>CRPT</th>\n",
       "      <th>HTUS</th>\n",
       "      <th>IAI</th>\n",
       "      <th>KCE</th>\n",
       "      <th>PSP</th>\n",
       "      <th>SPSM</th>\n",
       "      <th>UTES</th>\n",
       "      <th>VOO</th>\n",
       "      <th>XBI</th>\n",
       "      <th>XMMO</th>\n",
       "      <th>XSMO</th>\n",
       "    </tr>\n",
       "  </thead>\n",
       "  <tbody>\n",
       "    <tr>\n",
       "      <th>2020-11-03</th>\n",
       "      <td></td>\n",
       "      <td></td>\n",
       "      <td>22.34</td>\n",
       "      <td>59.93</td>\n",
       "      <td>57.64</td>\n",
       "      <td>44.34</td>\n",
       "      <td>27.63</td>\n",
       "      <td>37.78</td>\n",
       "      <td>290.58</td>\n",
       "      <td>115.47</td>\n",
       "      <td>66.86</td>\n",
       "      <td>40.51</td>\n",
       "    </tr>\n",
       "    <tr>\n",
       "      <th>2020-11-04</th>\n",
       "      <td></td>\n",
       "      <td></td>\n",
       "      <td>22.72</td>\n",
       "      <td>59.99</td>\n",
       "      <td>58.32</td>\n",
       "      <td>45.37</td>\n",
       "      <td>27.35</td>\n",
       "      <td>37.05</td>\n",
       "      <td>297.12</td>\n",
       "      <td>122.57</td>\n",
       "      <td>68.69</td>\n",
       "      <td>40.89</td>\n",
       "    </tr>\n",
       "    <tr>\n",
       "      <th>2020-11-05</th>\n",
       "      <td></td>\n",
       "      <td></td>\n",
       "      <td>23.02</td>\n",
       "      <td>60.90</td>\n",
       "      <td>59.54</td>\n",
       "      <td>46.64</td>\n",
       "      <td>28.09</td>\n",
       "      <td>37.44</td>\n",
       "      <td>302.94</td>\n",
       "      <td>122.46</td>\n",
       "      <td>70.92</td>\n",
       "      <td>42.11</td>\n",
       "    </tr>\n",
       "    <tr>\n",
       "      <th>2020-11-06</th>\n",
       "      <td></td>\n",
       "      <td></td>\n",
       "      <td>23.03</td>\n",
       "      <td>60.41</td>\n",
       "      <td>58.88</td>\n",
       "      <td>46.72</td>\n",
       "      <td>27.84</td>\n",
       "      <td>37.36</td>\n",
       "      <td>302.90</td>\n",
       "      <td>119.50</td>\n",
       "      <td>71.04</td>\n",
       "      <td>41.74</td>\n",
       "    </tr>\n",
       "    <tr>\n",
       "      <th>2020-11-09</th>\n",
       "      <td></td>\n",
       "      <td></td>\n",
       "      <td>23.52</td>\n",
       "      <td>63.67</td>\n",
       "      <td>61.10</td>\n",
       "      <td>47.87</td>\n",
       "      <td>29.18</td>\n",
       "      <td>38.19</td>\n",
       "      <td>306.68</td>\n",
       "      <td>120.00</td>\n",
       "      <td>67.80</td>\n",
       "      <td>40.88</td>\n",
       "    </tr>\n",
       "    <tr>\n",
       "      <th>...</th>\n",
       "      <td>...</td>\n",
       "      <td>...</td>\n",
       "      <td>...</td>\n",
       "      <td>...</td>\n",
       "      <td>...</td>\n",
       "      <td>...</td>\n",
       "      <td>...</td>\n",
       "      <td>...</td>\n",
       "      <td>...</td>\n",
       "      <td>...</td>\n",
       "      <td>...</td>\n",
       "      <td>...</td>\n",
       "    </tr>\n",
       "    <tr>\n",
       "      <th>2022-02-15</th>\n",
       "      <td></td>\n",
       "      <td>14.67</td>\n",
       "      <td>28.65</td>\n",
       "      <td>104.28</td>\n",
       "      <td>90.85</td>\n",
       "      <td>60.47</td>\n",
       "      <td>40.51</td>\n",
       "      <td>41.24</td>\n",
       "      <td>393.06</td>\n",
       "      <td>95.49</td>\n",
       "      <td>84.98</td>\n",
       "      <td>50.84</td>\n",
       "    </tr>\n",
       "    <tr>\n",
       "      <th>2022-02-16</th>\n",
       "      <td></td>\n",
       "      <td>14.40</td>\n",
       "      <td>28.87</td>\n",
       "      <td>103.77</td>\n",
       "      <td>91.28</td>\n",
       "      <td>60.30</td>\n",
       "      <td>40.61</td>\n",
       "      <td>41.39</td>\n",
       "      <td>393.53</td>\n",
       "      <td>94.50</td>\n",
       "      <td>85.49</td>\n",
       "      <td>50.78</td>\n",
       "    </tr>\n",
       "    <tr>\n",
       "      <th>2022-02-17</th>\n",
       "      <td></td>\n",
       "      <td>13.40</td>\n",
       "      <td>28.43</td>\n",
       "      <td>100.64</td>\n",
       "      <td>88.28</td>\n",
       "      <td>58.30</td>\n",
       "      <td>39.85</td>\n",
       "      <td>41.45</td>\n",
       "      <td>385.16</td>\n",
       "      <td>90.47</td>\n",
       "      <td>82.85</td>\n",
       "      <td>49.34</td>\n",
       "    </tr>\n",
       "    <tr>\n",
       "      <th>2022-02-18</th>\n",
       "      <td></td>\n",
       "      <td>12.91</td>\n",
       "      <td>27.90</td>\n",
       "      <td>99.86</td>\n",
       "      <td>87.75</td>\n",
       "      <td>57.96</td>\n",
       "      <td>39.66</td>\n",
       "      <td>41.31</td>\n",
       "      <td>382.70</td>\n",
       "      <td>89.25</td>\n",
       "      <td>82.18</td>\n",
       "      <td>49.10</td>\n",
       "    </tr>\n",
       "    <tr>\n",
       "      <th>2022-02-22</th>\n",
       "      <td>14.97</td>\n",
       "      <td>12.44</td>\n",
       "      <td>27.84</td>\n",
       "      <td>98.98</td>\n",
       "      <td>86.41</td>\n",
       "      <td>56.65</td>\n",
       "      <td>39.10</td>\n",
       "      <td>41.15</td>\n",
       "      <td>378.51</td>\n",
       "      <td>88.54</td>\n",
       "      <td>80.65</td>\n",
       "      <td>48.24</td>\n",
       "    </tr>\n",
       "  </tbody>\n",
       "</table>\n",
       "<p>328 rows × 12 columns</p>\n",
       "</div>"
      ],
      "text/plain": [
       "Ticker      CLSE  CRPT  HTUS    IAI   KCE   PSP  SPSM  UTES    VOO    XBI  \\\n",
       "2020-11-03             22.34  59.93 57.64 44.34 27.63 37.78 290.58 115.47   \n",
       "2020-11-04             22.72  59.99 58.32 45.37 27.35 37.05 297.12 122.57   \n",
       "2020-11-05             23.02  60.90 59.54 46.64 28.09 37.44 302.94 122.46   \n",
       "2020-11-06             23.03  60.41 58.88 46.72 27.84 37.36 302.90 119.50   \n",
       "2020-11-09             23.52  63.67 61.10 47.87 29.18 38.19 306.68 120.00   \n",
       "...          ...   ...   ...    ...   ...   ...   ...   ...    ...    ...   \n",
       "2022-02-15       14.67 28.65 104.28 90.85 60.47 40.51 41.24 393.06  95.49   \n",
       "2022-02-16       14.40 28.87 103.77 91.28 60.30 40.61 41.39 393.53  94.50   \n",
       "2022-02-17       13.40 28.43 100.64 88.28 58.30 39.85 41.45 385.16  90.47   \n",
       "2022-02-18       12.91 27.90  99.86 87.75 57.96 39.66 41.31 382.70  89.25   \n",
       "2022-02-22 14.97 12.44 27.84  98.98 86.41 56.65 39.10 41.15 378.51  88.54   \n",
       "\n",
       "Ticker      XMMO  XSMO  \n",
       "2020-11-03 66.86 40.51  \n",
       "2020-11-04 68.69 40.89  \n",
       "2020-11-05 70.92 42.11  \n",
       "2020-11-06 71.04 41.74  \n",
       "2020-11-09 67.80 40.88  \n",
       "...          ...   ...  \n",
       "2022-02-15 84.98 50.84  \n",
       "2022-02-16 85.49 50.78  \n",
       "2022-02-17 82.85 49.34  \n",
       "2022-02-18 82.18 49.10  \n",
       "2022-02-22 80.65 48.24  \n",
       "\n",
       "[328 rows x 12 columns]"
      ]
     },
     "metadata": {},
     "output_type": "display_data"
    },
    {
     "data": {
      "text/html": [
       "<div>\n",
       "<style scoped>\n",
       "    .dataframe tbody tr th:only-of-type {\n",
       "        vertical-align: middle;\n",
       "    }\n",
       "\n",
       "    .dataframe tbody tr th {\n",
       "        vertical-align: top;\n",
       "    }\n",
       "\n",
       "    .dataframe thead th {\n",
       "        text-align: right;\n",
       "    }\n",
       "</style>\n",
       "<table border=\"1\" class=\"dataframe\">\n",
       "  <thead>\n",
       "    <tr style=\"text-align: right;\">\n",
       "      <th>Ticker</th>\n",
       "      <th>CLSE</th>\n",
       "      <th>CRPT</th>\n",
       "      <th>HTUS</th>\n",
       "      <th>IAI</th>\n",
       "      <th>KCE</th>\n",
       "      <th>PSP</th>\n",
       "      <th>SPSM</th>\n",
       "      <th>UTES</th>\n",
       "      <th>VOO</th>\n",
       "      <th>XBI</th>\n",
       "      <th>XMMO</th>\n",
       "      <th>XSMO</th>\n",
       "    </tr>\n",
       "  </thead>\n",
       "  <tbody>\n",
       "    <tr>\n",
       "      <th>2024-11-20</th>\n",
       "      <td>-0.04</td>\n",
       "      <td>-0.45</td>\n",
       "      <td>-0.15</td>\n",
       "      <td>-0.06</td>\n",
       "      <td>-0.01</td>\n",
       "      <td>0.07</td>\n",
       "      <td>0.17</td>\n",
       "      <td>-0.55</td>\n",
       "      <td>0.04</td>\n",
       "      <td>0.90</td>\n",
       "      <td>0.98</td>\n",
       "      <td>-0.41</td>\n",
       "    </tr>\n",
       "    <tr>\n",
       "      <th>2024-11-21</th>\n",
       "      <td>0.04</td>\n",
       "      <td>-1.37</td>\n",
       "      <td>0.44</td>\n",
       "      <td>0.76</td>\n",
       "      <td>1.38</td>\n",
       "      <td>1.30</td>\n",
       "      <td>1.64</td>\n",
       "      <td>3.35</td>\n",
       "      <td>0.50</td>\n",
       "      <td>0.31</td>\n",
       "      <td>1.73</td>\n",
       "      <td>1.45</td>\n",
       "    </tr>\n",
       "    <tr>\n",
       "      <th>2024-11-22</th>\n",
       "      <td>0.00</td>\n",
       "      <td>1.49</td>\n",
       "      <td>0.40</td>\n",
       "      <td>0.82</td>\n",
       "      <td>0.71</td>\n",
       "      <td>0.82</td>\n",
       "      <td>1.61</td>\n",
       "      <td>-0.92</td>\n",
       "      <td>0.34</td>\n",
       "      <td>2.06</td>\n",
       "      <td>1.59</td>\n",
       "      <td>1.41</td>\n",
       "    </tr>\n",
       "    <tr>\n",
       "      <th>2024-11-25</th>\n",
       "      <td>-1.01</td>\n",
       "      <td>1.31</td>\n",
       "      <td>0.12</td>\n",
       "      <td>0.74</td>\n",
       "      <td>1.16</td>\n",
       "      <td>0.75</td>\n",
       "      <td>1.93</td>\n",
       "      <td>-0.62</td>\n",
       "      <td>0.32</td>\n",
       "      <td>1.44</td>\n",
       "      <td>1.45</td>\n",
       "      <td>1.21</td>\n",
       "    </tr>\n",
       "    <tr>\n",
       "      <th>2024-11-26</th>\n",
       "      <td>1.45</td>\n",
       "      <td>-6.35</td>\n",
       "      <td>0.55</td>\n",
       "      <td>-0.29</td>\n",
       "      <td>-0.18</td>\n",
       "      <td>-0.64</td>\n",
       "      <td>-0.93</td>\n",
       "      <td>2.14</td>\n",
       "      <td>0.56</td>\n",
       "      <td>1.25</td>\n",
       "      <td>-0.17</td>\n",
       "      <td>-0.57</td>\n",
       "    </tr>\n",
       "  </tbody>\n",
       "</table>\n",
       "</div>"
      ],
      "text/plain": [
       "Ticker      CLSE  CRPT  HTUS   IAI   KCE   PSP  SPSM  UTES  VOO  XBI  XMMO  \\\n",
       "2024-11-20 -0.04 -0.45 -0.15 -0.06 -0.01  0.07  0.17 -0.55 0.04 0.90  0.98   \n",
       "2024-11-21  0.04 -1.37  0.44  0.76  1.38  1.30  1.64  3.35 0.50 0.31  1.73   \n",
       "2024-11-22  0.00  1.49  0.40  0.82  0.71  0.82  1.61 -0.92 0.34 2.06  1.59   \n",
       "2024-11-25 -1.01  1.31  0.12  0.74  1.16  0.75  1.93 -0.62 0.32 1.44  1.45   \n",
       "2024-11-26  1.45 -6.35  0.55 -0.29 -0.18 -0.64 -0.93  2.14 0.56 1.25 -0.17   \n",
       "\n",
       "Ticker      XSMO  \n",
       "2024-11-20 -0.41  \n",
       "2024-11-21  1.45  \n",
       "2024-11-22  1.41  \n",
       "2024-11-25  1.21  \n",
       "2024-11-26 -0.57  "
      ]
     },
     "metadata": {},
     "output_type": "display_data"
    },
    {
     "data": {
      "text/html": [
       "<style>:root { --jp-notebook-max-width: 96% !important; }</style>"
      ],
      "text/plain": [
       "<IPython.core.display.HTML object>"
      ]
     },
     "metadata": {},
     "output_type": "display_data"
    }
   ],
   "source": [
    "tix = \" \".join(sorted(set(TEST.split())))\n",
    "for _ in range(3):\n",
    "    kw = {'start': start}\n",
    "    end = datetime.datetime.now().strftime(\"%Y-%m-%d\")\n",
    "    idx = yf.download(tix, **kw)\n",
    "    idx.index = idx.index.date\n",
    "    if idx['Adj Close'].index[0] != idx['Adj Close'].dropna().index[0]:\n",
    "        start = idx['Adj Close'].dropna().index[0]\n",
    "        print(f\"\\nCommon start: {start}\")\n",
    "        display(idx['Adj Close'][:start].fillna(''))\n",
    "        idx=idx.loc[start:]\n",
    "    # FIXME: Warning: some futures ETFs show NaN for current trading day\n",
    "    adj_prices = idx['Adj Close'].copy()\n",
    "    if any(adj_prices.iloc[-1].isna()):\n",
    "        print(\"Missing data from today!!!\")\n",
    "        columns_with_na_in_last_row = adj_prices.columns[adj_prices.isna().iloc[-1]].tolist()\n",
    "        print(f\"Drop {columns_with_na_in_last_row}\" + 10*\"\\n\")\n",
    "        tix = adj_prices.columns[~adj_prices.isna().iloc[-1]].tolist()\n",
    "    else:\n",
    "        break\n",
    "display(100*adj_prices.pct_change(1, fill_method=None).tail())\n",
    "# idx.dropna(inplace=True) # Crypto currency trades when stock market is closed\n",
    "\n",
    "prices = idx['Adj Close'].div(idx['Adj Close'].iloc[0]).mul(100)\n",
    "summary = pd.DataFrame(index=idx['Adj Close'].columns)\n",
    "tickers = {n: Ticker(n) for n in summary.index}\n",
    "funds = {n: t.all_modules[n] for n, t in tickers.items()}\n",
    "holdings = {fund:funds[fund][\"topHoldings\"]['holdings'] for fund in funds if funds[fund].get('topHoldings')}\n",
    "recommendations = {n: t.recommendations for n, t in tickers.items()}\n",
    "insights = {n: t.technical_insights[n] for n, t in tickers.items()}\n",
    "ret = prices.pct_change().dropna()\n",
    "types = []\n",
    "for fund in funds:\n",
    "    if 'CRYPTOCURRENCY' == funds[fund][\"quoteType\"]['quoteType']: # Crypto\n",
    "        types.append(funds[fund][\"quoteType\"]['quoteType'])\n",
    "    elif 'ETF' == funds[fund][\"quoteType\"]['quoteType']:\n",
    "        types.append(funds[fund][\"fundProfile\"]['categoryName'])\n",
    "    else: #'EQUITY' == funds[fund][\"quoteType\"]['quoteType'] = Stock\n",
    "        types.append(funds[fund][\"assetProfile\"]['sector'])\n",
    "summary['category'] = types\n",
    "\n",
    "summary = pd.concat((summary, ann_risk_return(prices.div(100))), axis=1)\n",
    "summary['trailingPE'] = [funds[fund][\"summaryDetail\"].get('trailingPE',0) for fund in funds]\n",
    "summary[\"Sharpe\"] = (summary[\"Return\"].sub(risk_free_return))/summary[\"Risk\"]\n",
    "summary[\"TotalRisk\"] = np.power(summary.Risk, 2)\n",
    "summary[\"SystRisk\"] = (prices.div(100).cov()*252).loc[:,'VOO' if 'VOO' in prices.columns else prices.columns[-1]]\n",
    "summary[\"UnsystRisk\"] = summary[\"TotalRisk\"].sub(summary[\"SystRisk\"])\n",
    "json_struct = json.loads(pd.DataFrame(insights).drop(['upsell', 'symbol'], errors='ignore').T.to_json(orient=\"records\"))\n",
    "df_flat = pd.json_normalize(json_struct)\n",
    "df_flat.drop([c for c in df_flat.columns if c.endswith(('indexScoreDescription', '.stateDescription', '.provider', '.indexDirection',\n",
    "                                                        '.direction', '.score', '.indexScore',\n",
    "        'sigDevs', 'events', 'secReports', 'projectionValuesCat', 'reports', '.reportId', '.researchReports.title', 'companySnapshot'))],\n",
    "        axis=1, inplace=True)\n",
    "df_flat.columns= [c.replace('instrumentInfo.', '') for c in df_flat.columns]\n",
    "df_flat.columns= [c.replace('technicalEvents.', '') for c in df_flat.columns]\n",
    "df_flat.columns= [c.replace('keyTechnicals.', '') for c in df_flat.columns]\n",
    "df_flat.index = summary.index\n",
    "df_flat = df_flat.T\n",
    "df_flat = pd.concat((df_flat, pd.DataFrame(\n",
    "    {fund['quoteType']['symbol']:\n",
    "    {'annualReportExpenseRatio': fund.get('fundProfile',{}).get('feesExpensesInvestment',{}).get('annualReportExpenseRatio',0)}\n",
    "    for fund in funds.values()}\n",
    ")))\n",
    "display(HTML(\"<style>:root { --jp-notebook-max-width: 96% !important; }</style>\"))\n",
    "\n",
    "noa = len(prices.columns)\n",
    "np.random.seed(NOP)\n",
    "matrix = np.random.random(noa*NOP).reshape(NOP, noa)\n",
    "weights = matrix / matrix.sum(axis=1, keepdims=True)\n",
    "port_ret = prices.div(100).dot(weights.T) # port_ret = ret.dot(weights.T)\n",
    "port_summary = ann_risk_return(port_ret)\n",
    "port_summary[\"Sharpe\"] = (port_summary[\"Return\"].sub(risk_free_return))/port_summary[\"Risk\"]\n",
    "port_summary[\"Sortino\"] = get_sortino(port_ret.iloc[:,:-1])\n",
    "msrp = port_summary.Sharpe.idxmax()\n",
    "msrp1 = port_summary.Sortino.idxmax()\n",
    "msrp_w = weights[msrp, :]\n",
    "msrp1_w = weights[msrp1, :]\n",
    "category = [get_parent(tick) for tick in list(prices.columns[:len(msrp_w)])]\n",
    "summary['category'] = category\n",
    "if len(prices.columns) == len(msrp_w):\n",
    "    prices['sharpe'] = (prices * msrp_w).sum(axis=1)\n",
    "if len(prices.columns) > len(msrp1_w):\n",
    "    msrp1_w = np.append(msrp1_w, 0)\n",
    "    prices['sortino'] = (prices * msrp1_w).sum(axis=1)\n",
    "summary['weight'] = msrp_w*100\n",
    "summary['weight1'] = msrp1_w[:summary.shape[0]]*100\n",
    "pole = \"VOO\" if \"VOO\" in prices.columns else prices.columns[0]\n",
    "summary[\"beta\"] = summary.SystRisk / summary.loc[pole, \"SystRisk\"]\n",
    "summary[\"capm_ret\"] = risk_free_return + (summary.loc[pole, \"Return\"] - risk_free_return) * summary.beta\n",
    "summary[\"alpha\"] = summary.Return - summary.capm_ret\n",
    "summary = pd.concat((summary, df_flat.iloc[:-4].T), axis=1) # Next, analysts outlook\n",
    "price_bands() # Calculate price bands\n",
    "sortval = summary['MACD_prc'] * summary['RSI_prc']\n",
    "edf = {}\n",
    "for j, v in enumerate(sortval.sort_values(ascending=False).index):\n",
    "    edf[v] = idx.swaplevel(0, 1, axis=1)[v]\n",
    "    edf[v] = calc_ichimoku(edf[v])"
   ]
  },
  {
   "cell_type": "code",
   "execution_count": 5,
   "id": "60cac752-dff7-46f8-9365-cbb77943b702",
   "metadata": {
    "jupyter": {
     "source_hidden": true
    },
    "tags": []
   },
   "outputs": [],
   "source": [
    "x=-0\n",
    "if bool(x):\n",
    "    print((f\"!!! NOT USING default today's date!!!\"+\"\\n\")*5)"
   ]
  },
  {
   "cell_type": "code",
   "execution_count": 6,
   "id": "21efb7f0-8085-413f-ab32-27fc6bd7d60d",
   "metadata": {
    "jupyter": {
     "source_hidden": true
    },
    "tags": []
   },
   "outputs": [
    {
     "data": {
      "text/html": [
       "<iframe\n",
       "    scrolling=\"no\"\n",
       "    width=\"100%\"\n",
       "    height=\"545px\"\n",
       "    src=\"iframe_figures/figure_6.html\"\n",
       "    frameborder=\"0\"\n",
       "    allowfullscreen\n",
       "></iframe>\n"
      ]
     },
     "metadata": {},
     "output_type": "display_data"
    }
   ],
   "source": [
    "if type(x) == str:\n",
    "    x=0\n",
    "x-=1 # Use latest day's data\n",
    "idx.index = idx.index.astype(str)\n",
    "\n",
    "# Define conditions\n",
    "conditions = [\n",
    "    idx['tenkan_sen'] > idx['kijun_sen'],\n",
    "    idx['tenkan_sen'] == idx['kijun_sen'],\n",
    "    idx['tenkan_sen'] < idx['kijun_sen']\n",
    "]\n",
    "choices = ['triangle-up', 'square', 'triangle-down']\n",
    "shape = np.select(conditions, choices, default='circle')\n",
    "trend = (\n",
    "    (idx['Close'] > idx['tenkan_sen']) & (idx['tenkan_sen'] > idx['kijun_sen'])\n",
    ")|(\n",
    "    (idx['Close'] < idx['tenkan_sen']) & (idx['tenkan_sen'] < idx['kijun_sen'])\n",
    ")\n",
    "cloudposition = [edf[v].dropna().apply(compare_values_ichi, axis=1).iloc[x] for v in idx['Low'].columns]\n",
    "\n",
    "g = px.scatter(\n",
    "    idx, y=idx['RSI_prc'].iloc[x], x=idx['MACD_prc'].iloc[x], # hover_name=summary.index,\n",
    "    color=idx['Adj Close'].pct_change().iloc[x].values*100, color_continuous_scale='RdYlGn', color_continuous_midpoint=0.0,\n",
    "    title=f\"RSI vs MACD Situational Frequency as of {idx.index[x]}\", template=template, text=[i.upper() if v else i.lower() for i, v in idx['signal_ichimoku'].iloc[x].items()]\n",
    ")\n",
    "g.add_shape(type='line', x0=0, y0=50, x1=100, y1=50, line=dict(color='gray', dash='dash'))\n",
    "g.add_shape(type='line', x0=50, y0=0, x1=50, y1=100, line=dict(color='gray', dash='dash'))\n",
    "kw = {\n",
    "    'marker': dict(\n",
    "        symbol=shape[-1],\n",
    "        size=(2*idx['Adj Close'].pct_change().iloc[x] / idx['Adj Close'].pct_change().std())**2+5,\n",
    "        line=dict(width=3, color=idx['RSI'].iloc[x], cmax=2, cmin=-2, colorscale=\"RdYlGn\")\n",
    "    ),\n",
    "    'textfont': dict(color=['rgba(255, 255, 255, 0.75)' if t else 'rgba(255, 255, 255, 0.25)' for t in trend.iloc[x]]),\n",
    "    'textposition': cloudposition\n",
    "}\n",
    "g.update_traces(**kw) # hovertemplate=s+'=%{y}<extra></extra>'"
   ]
  },
  {
   "cell_type": "code",
   "execution_count": 7,
   "id": "e5872140-b277-4776-a805-38af7b72c8ed",
   "metadata": {
    "jupyter": {
     "source_hidden": true
    },
    "tags": []
   },
   "outputs": [
    {
     "data": {
      "text/html": [
       "<iframe\n",
       "    scrolling=\"no\"\n",
       "    width=\"100%\"\n",
       "    height=\"3620\"\n",
       "    src=\"iframe_figures/figure_7.html\"\n",
       "    frameborder=\"0\"\n",
       "    allowfullscreen\n",
       "></iframe>\n"
      ]
     },
     "metadata": {},
     "output_type": "display_data"
    }
   ],
   "source": [
    "howmany = 9\n",
    "x_values = sortval.sort_values(ascending=True).index[:howmany]\n",
    "fig = make_subplots(rows=howmany, cols=1, subplot_titles=[f'{x}' for x in x_values], shared_xaxes=True)\n",
    "for i, x_value in enumerate(x_values):\n",
    "    single_fig = plot2_ichimoku(d=edf[x_value], ticker_name=x_value)\n",
    "    for trace in single_fig.data:\n",
    "        fig.add_trace(trace, col=1, row=i+1)\n",
    "    fig.update_layout(xaxis={'rangeslider': {'visible': False}, 'title': {'text': 'Date'}})\n",
    "    fig.update_layout(xaxis2={'rangeslider': {'visible': False}, 'title': {'text': 'Date'}})\n",
    "    fig.update_layout(xaxis3={'rangeslider': {'visible': False}, 'title': {'text': 'Date'}})\n",
    "    fig.update_layout(xaxis4={'rangeslider': {'visible': False}, 'title': {'text': 'Date'}})\n",
    "    fig.update_layout(xaxis5={'rangeslider': {'visible': False}, 'title': {'text': 'Date'}})\n",
    "    fig.update_layout(xaxis6={'rangeslider': {'visible': False}, 'title': {'text': 'Date'}})\n",
    "    fig.update_layout(xaxis7={'rangeslider': {'visible': False}, 'title': {'text': 'Date'}})\n",
    "    fig.update_layout(xaxis8={'rangeslider': {'visible': False}, 'title': {'text': 'Date'}})\n",
    "    fig.update_layout(xaxis9={'rangeslider': {'visible': False}, 'title': {'text': 'Date'}})\n",
    "    \n",
    "fig.update_layout(template=template, height=400*min(howmany, len(x_values)))\n",
    "fig.show()"
   ]
  },
  {
   "cell_type": "code",
   "execution_count": 8,
   "id": "ed447621-fa35-48e0-8e2d-2f2251e7e5f7",
   "metadata": {
    "jupyter": {
     "source_hidden": true
    },
    "tags": []
   },
   "outputs": [
    {
     "data": {
      "text/html": [
       "<iframe\n",
       "    scrolling=\"no\"\n",
       "    width=\"100%\"\n",
       "    height=\"545px\"\n",
       "    src=\"iframe_figures/figure_8.html\"\n",
       "    frameborder=\"0\"\n",
       "    allowfullscreen\n",
       "></iframe>\n"
      ]
     },
     "metadata": {},
     "output_type": "display_data"
    }
   ],
   "source": [
    "a=[]\n",
    "for fund in funds:\n",
    "    hold_sum = 0\n",
    "    t = None\n",
    "    for t in funds[fund].get('topHoldings',{}).get('holdings',{}):\n",
    "        t['etf'] = fund\n",
    "        t['category'] = summary.loc[fund, 'category']\n",
    "        t['weight']=summary.loc[fund, 'weight' if model=='Sharpe' else 'weight1']\n",
    "        t['holding'] = t['weight'] * t['holdingPercent']\n",
    "        hold_sum += t['holdingPercent']\n",
    "        t['Return'] = summary.loc[fund, 'Return'] #* 100\n",
    "        t['color'] = 2-idx['RSI_prc',fund].iloc[-1]/25\n",
    "        a.append(t)\n",
    "    z={}\n",
    "    z['holdingName'] = '<other>'\n",
    "    z['etf'] = fund\n",
    "    z['category'] = summary.loc[fund, 'category']\n",
    "    z['weight']=summary.loc[fund, 'weight' if model=='Sharpe' else 'weight1']\n",
    "    z['holding'] = t['weight'] * (1-hold_sum) if t else 1\n",
    "    z['Return'] = summary.loc[fund, 'Return'] #* 100\n",
    "    z['color'] =  2-idx['MACD_prc',fund].iloc[-1]/25\n",
    "    a.append(z)\n",
    "\n",
    "tree = pd.DataFrame(a)\n",
    "fig = px.treemap(tree, title=f\"{model} Portfolio Structure\", path=['category', 'etf', 'holdingName'], values='holding', #labels=\"parent\",\n",
    "         hover_name='etf',\n",
    "         hover_data=['Return', 'color'],\n",
    "         color_continuous_midpoint=0, color_continuous_scale=\"Temps\", color='color', range_color=(-2,2))\n",
    "fig.update_layout(margin=dict(l=10, r=10, b=10, t=30), template=template)\n",
    "fig.update_traces(marker=dict(cornerradius=5))\n",
    "fig.show()"
   ]
  },
  {
   "cell_type": "code",
   "execution_count": 27,
   "id": "6ed9fe89-27e1-4c1a-b14e-5b2ecfa33ffc",
   "metadata": {
    "tags": []
   },
   "outputs": [
    {
     "data": {
      "text/plain": [
       "20"
      ]
     },
     "execution_count": 27,
     "metadata": {},
     "output_type": "execute_result"
    }
   ],
   "source": [
    "cutoff"
   ]
  },
  {
   "cell_type": "code",
   "execution_count": null,
   "id": "467d4701-868a-439b-9f68-f1b038dd37bc",
   "metadata": {},
   "outputs": [],
   "source": []
  },
  {
   "cell_type": "code",
   "execution_count": 31,
   "id": "a042f8d1-155e-4c63-919d-c523b1b89f61",
   "metadata": {
    "tags": []
   },
   "outputs": [
    {
     "data": {
      "text/html": [
       "<iframe\n",
       "    scrolling=\"no\"\n",
       "    width=\"100%\"\n",
       "    height=\"4420\"\n",
       "    src=\"iframe_figures/figure_31.html\"\n",
       "    frameborder=\"0\"\n",
       "    allowfullscreen\n",
       "></iframe>\n"
      ]
     },
     "metadata": {},
     "output_type": "display_data"
    }
   ],
   "source": [
    "# TODO: chop first 26 days\n",
    "titles = []\n",
    "sortval = summary['MACD_prc'] * summary['RSI_prc']/100\n",
    "for title in sortval.sort_values(ascending=True).index:\n",
    "    titles.append(\"{} {:.1f}%\".format(title, sortval.loc[title]))\n",
    "    titles.append(None)\n",
    "kw=dict(\n",
    "    rows=2*summary['MACD_prc'].size,\n",
    "    cols=1,\n",
    "    shared_xaxes=True,\n",
    "    vertical_spacing=.01,\n",
    "    horizontal_spacing=.01,\n",
    "    row_heights=summary['MACD_prc'].size*[300, 100],\n",
    "    subplot_titles=titles\n",
    ")\n",
    "fig = make_subplots(**kw)\n",
    "for j, v in enumerate(sortval.sort_values(ascending=False).index):\n",
    "    kwtop={\"row\":1+2*j, \"col\":1}\n",
    "    kwbottom={\"row\":2+2*j, \"col\":1}\n",
    "\n",
    "    # bollinger bands\n",
    "    g = px.line(edf[v], x=edf[v].index, y='Adj Close')\n",
    "    g.update_traces(line_color='blue', hovertemplate='%{y:.2f}<extra></extra>')\n",
    "    fig.add_trace(g.data[0], **kwtop)\n",
    "    fig.add_trace(go.Scatter(\n",
    "        x=pd.concat([pd.DataFrame(edf[v]['UBAND'].dropna()), pd.DataFrame(edf[v]['LBAND'].dropna())[::-1]]).index,\n",
    "        y=pd.concat([edf[v]['UBAND'].dropna(), edf[v]['LBAND'].dropna()[::-1]]),\n",
    "        fill='toself',\n",
    "        fillcolor='rgba(64, 64, 64, 0.35)',  # Semi-transparent green\n",
    "        line=dict(color='rgba(255, 255, 255, 0)'),  # Invisible line\n",
    "        name='Bollinger Bands Area',\n",
    "        showlegend=False,\n",
    "        hovertemplate=\"\"\n",
    "    ), **kwtop)\n",
    "\n",
    "    # # Buy/ sell signals\n",
    "    # for s, n in {'sell': 1, 'buy': -1}.items():\n",
    "    #     g = px.scatter(edf[v].loc[edf[v].position_ema == n], y=edf[v].loc[edf[v].position_ema == n]['Adj Close'])\n",
    "    #     kw = dict(symbol=\"triangle-up\" if n==-1 else \"triangle-down\", line=dict(width=1, color=\"green\" if n==-1 else \"red\"))\n",
    "    #     g.update_traces(marker=kw, hovertemplate=s+'=%{y:.2f}<extra></extra>')\n",
    "    #     fig.add_trace(g.data[0], **kwtop)\n",
    "    \n",
    "    # PZ Signals\n",
    "    msk = (\n",
    "        (edf[v].rolling(rwindow).mean()['MACD'] < 0) &\n",
    "        # ((edf[v].rolling(rwindow).mean()['RSI'].rank(pct=True) - edf[v].rolling(rwindow).mean()['MACD'].rank(pct=True)) <-cutoff))\n",
    "        ((edf[v]['RSI_prc']-edf[v]['MACD_prc']) <-cutoff)\n",
    "        # ((edf[v]['RSI_prc']/(edf[v]['RSI_prc']+edf[v]['MACD_prc']))*100 < cutoff)\n",
    "    )\n",
    "    \n",
    "    fig.add_trace(go.Scatter(\n",
    "        x=edf[v][msk].index, y=edf[v][msk]['Adj Close'], name='PZ Buy', showlegend=False, line=dict(color='rgba(0, 255, 0, 0.6)', width=1),\n",
    "    ), **kwtop)\n",
    "    msk = (\n",
    "        (edf[v].rolling(rwindow).mean()['MACD'] > 0) &\n",
    "        ((edf[v]['MACD_prc']-edf[v]['RSI_prc']) <-cutoff))\n",
    "    fig.add_trace(go.Scatter(\n",
    "        x=edf[v][msk].index, y=edf[v][msk]['Adj Close'], name='PZ Sell', showlegend=False, line=dict(color='rgba(255, 0, 0, 0.6)', width=1),\n",
    "    ), **kwtop)\n",
    "\n",
    "\n",
    "    ### ICHIMOKU CLOUD ###\n",
    "    kwich={'x': edf[v].index, 'type': 'scatter', 'mode': 'lines', 'showlegend': False, 'hovertemplate': \"\"}\n",
    "    fig.add_trace(go.Scatter(\n",
    "        y=np.where(edf[v]['senkou_span_a'] > edf[v]['senkou_span_b'], edf[v]['senkou_span_a'], edf[v]['senkou_span_b']),\n",
    "        name='senkou_span_max',\n",
    "        line=dict(width=0),\n",
    "        **kwich), **kwtop)\n",
    "    fig.add_trace(go.Scatter(\n",
    "        y=edf[v]['senkou_span_b'], \n",
    "        fill='tonexty',\n",
    "        fillcolor='rgba(0, 128, 0, 0.25)',\n",
    "        line=dict(color='rgba(0, 128, 0, 0.1)'),\n",
    "        name='senkou_span_a above',\n",
    "        **kwich), **kwtop)\n",
    "    fig.add_trace(go.Scatter(\n",
    "        y=np.where(edf[v]['senkou_span_b'] > edf[v]['senkou_span_a'], edf[v]['senkou_span_b'], edf[v]['senkou_span_a']),\n",
    "        name='senkou_span_min',\n",
    "        line=dict(width=0),\n",
    "        **kwich), **kwtop)\n",
    "    fig.add_trace(go.Scatter(\n",
    "        y=edf[v]['senkou_span_a'], \n",
    "        fill='tonexty',\n",
    "        fillcolor='rgba(128, 0, 0, 0.25)',\n",
    "        line=dict(color='rgba(128, 0, 0, 0.1)'),\n",
    "        name='senkou_span_b above',\n",
    "        **kwich), **kwtop)\n",
    "\n",
    "    # RSI\n",
    "    g = px.line(edf[v], x=edf[v].index, y=edf[v].rolling(rwindow).mean()['RSI'])#y='RSI')\n",
    "    g.update_traces(hovertemplate='RSI=%{y:.2f}<extra></extra>', line={'width': 1, 'color': 'orange'})\n",
    "    fig.add_trace(g.data[0], **kwbottom)\n",
    "    # Convergence/ divergence\n",
    "    g = px.bar(edf[v], x=edf[v].index, y='MACD')\n",
    "    g.update_traces(marker_color=np.where(edf[v]['MACD'] > 0, 'red', 'green'), hovertemplate='MACD=%{y:.2f}<extra></extra>')\n",
    "    fig.add_trace(g.data[0], **kwbottom)\n",
    "    fig.update_yaxes(type=\"log\", **kwtop)\n",
    "    fig.update_yaxes(range=[-2,2], **kwbottom)\n",
    "\n",
    "    g = px.line(edf[v], \n",
    "                x=edf[v].index, \n",
    "                y=(edf[v].rolling(rwindow).mean()['RSI'].rank(pct=True) - edf[v].rolling(rwindow).mean()['MACD'].rank(pct=True)).rank(pct=True)*4-2,\n",
    "        )\n",
    "    g.update_traces(line={'width': 1})\n",
    "    fig.add_trace(g.data[0], **kwbottom)\n",
    "    \n",
    "kw = dict(\n",
    "    margin=dict(l=10, r=10, b=10, t=10),\n",
    "    template=template,\n",
    "    height=400*j,\n",
    "    hovermode='x unified',\n",
    "    legend_traceorder=\"normal\",\n",
    "    spikedistance=5,\n",
    "    xaxis=dict(spikecolor=\"white\",\n",
    "       spikethickness=.25,\n",
    "       spikedash='dash',\n",
    "       spikemode='toaxis+across+marker',\n",
    "       # range=[edf[v].index[60], edf[v].index[-1]]  # Zoom in from day 26 onward\n",
    "    ),\n",
    "    autosize=True,\n",
    ")\n",
    "fig.update_layout(**kw)\n",
    "fig.show();"
   ]
  },
  {
   "cell_type": "code",
   "execution_count": 11,
   "id": "c0ff4d1a-10d7-45e4-9072-2d0fdf0e08c5",
   "metadata": {
    "tags": []
   },
   "outputs": [
    {
     "data": {
      "text/html": [
       "<style type=\"text/css\">\n",
       "#T_b3a37_row1_col4, #T_b3a37_row2_col1, #T_b3a37_row3_col5, #T_b3a37_row4_col7, #T_b3a37_row5_col1, #T_b3a37_row6_col1, #T_b3a37_row7_col1, #T_b3a37_row8_col7, #T_b3a37_row9_col7, #T_b3a37_row10_col1, #T_b3a37_row11_col1, #T_b3a37_row12_col7, #T_b3a37_row13_col4, #T_b3a37_row13_col5, #T_b3a37_row13_col6, #T_b3a37_row13_col7, #T_b3a37_row13_col8, #T_b3a37_row13_col10, #T_b3a37_row13_col11, #T_b3a37_row14_col0, #T_b3a37_row14_col1, #T_b3a37_row14_col5, #T_b3a37_row14_col6, #T_b3a37_row14_col8, #T_b3a37_row14_col10, #T_b3a37_row14_col11, #T_b3a37_row15_col1, #T_b3a37_row15_col3, #T_b3a37_row15_col5, #T_b3a37_row15_col9, #T_b3a37_row16_col8, #T_b3a37_row17_col8, #T_b3a37_row18_col8, #T_b3a37_row19_col7, #T_b3a37_row20_col7 {\n",
       "  color: green;\n",
       "}\n",
       "#T_b3a37_row1_col9, #T_b3a37_row2_col6, #T_b3a37_row3_col1, #T_b3a37_row3_col9, #T_b3a37_row4_col9, #T_b3a37_row5_col6, #T_b3a37_row6_col9, #T_b3a37_row7_col6, #T_b3a37_row8_col8, #T_b3a37_row9_col8, #T_b3a37_row10_col9, #T_b3a37_row11_col9, #T_b3a37_row12_col9, #T_b3a37_row16_col1, #T_b3a37_row17_col1, #T_b3a37_row18_col1, #T_b3a37_row19_col9, #T_b3a37_row20_col9 {\n",
       "  color: blue;\n",
       "}\n",
       "#T_b3a37_row13_col0, #T_b3a37_row13_col1, #T_b3a37_row13_col3, #T_b3a37_row13_col9, #T_b3a37_row14_col2, #T_b3a37_row14_col9 {\n",
       "  color: red;\n",
       "}\n",
       "</style>\n",
       "<table id=\"T_b3a37\">\n",
       "  <thead>\n",
       "    <tr>\n",
       "      <th class=\"blank level0\" >&nbsp;</th>\n",
       "      <th id=\"T_b3a37_level0_col0\" class=\"col_heading level0 col0\" >CLSE</th>\n",
       "      <th id=\"T_b3a37_level0_col1\" class=\"col_heading level0 col1\" >CRPT</th>\n",
       "      <th id=\"T_b3a37_level0_col2\" class=\"col_heading level0 col2\" >HTUS</th>\n",
       "      <th id=\"T_b3a37_level0_col3\" class=\"col_heading level0 col3\" >IAI</th>\n",
       "      <th id=\"T_b3a37_level0_col4\" class=\"col_heading level0 col4\" >KCE</th>\n",
       "      <th id=\"T_b3a37_level0_col5\" class=\"col_heading level0 col5\" >PSP</th>\n",
       "      <th id=\"T_b3a37_level0_col6\" class=\"col_heading level0 col6\" >SPSM</th>\n",
       "      <th id=\"T_b3a37_level0_col7\" class=\"col_heading level0 col7\" >UTES</th>\n",
       "      <th id=\"T_b3a37_level0_col8\" class=\"col_heading level0 col8\" >VOO</th>\n",
       "      <th id=\"T_b3a37_level0_col9\" class=\"col_heading level0 col9\" >XBI</th>\n",
       "      <th id=\"T_b3a37_level0_col10\" class=\"col_heading level0 col10\" >XMMO</th>\n",
       "      <th id=\"T_b3a37_level0_col11\" class=\"col_heading level0 col11\" >XSMO</th>\n",
       "    </tr>\n",
       "  </thead>\n",
       "  <tbody>\n",
       "    <tr>\n",
       "      <th id=\"T_b3a37_level0_row0\" class=\"row_heading level0 row0\" >category</th>\n",
       "      <td id=\"T_b3a37_row0_col0\" class=\"data row0 col0\" >Long-Short Equity</td>\n",
       "      <td id=\"T_b3a37_row0_col1\" class=\"data row0 col1\" >crypto</td>\n",
       "      <td id=\"T_b3a37_row0_col2\" class=\"data row0 col2\" >Equity Hedged</td>\n",
       "      <td id=\"T_b3a37_row0_col3\" class=\"data row0 col3\" >Financial</td>\n",
       "      <td id=\"T_b3a37_row0_col4\" class=\"data row0 col4\" >Financial</td>\n",
       "      <td id=\"T_b3a37_row0_col5\" class=\"data row0 col5\" >Global Small/Mid Stock</td>\n",
       "      <td id=\"T_b3a37_row0_col6\" class=\"data row0 col6\" >Small Blend</td>\n",
       "      <td id=\"T_b3a37_row0_col7\" class=\"data row0 col7\" >Utilities</td>\n",
       "      <td id=\"T_b3a37_row0_col8\" class=\"data row0 col8\" >base</td>\n",
       "      <td id=\"T_b3a37_row0_col9\" class=\"data row0 col9\" >Health</td>\n",
       "      <td id=\"T_b3a37_row0_col10\" class=\"data row0 col10\" >Mid-Cap Blend</td>\n",
       "      <td id=\"T_b3a37_row0_col11\" class=\"data row0 col11\" >Small Growth</td>\n",
       "    </tr>\n",
       "    <tr>\n",
       "      <th id=\"T_b3a37_level0_row1\" class=\"row_heading level0 row1\" >Return</th>\n",
       "      <td id=\"T_b3a37_row1_col0\" class=\"data row1 col0\" >0.182548</td>\n",
       "      <td id=\"T_b3a37_row1_col1\" class=\"data row1 col1\" >0.163200</td>\n",
       "      <td id=\"T_b3a37_row1_col2\" class=\"data row1 col2\" >0.201901</td>\n",
       "      <td id=\"T_b3a37_row1_col3\" class=\"data row1 col3\" >0.169923</td>\n",
       "      <td id=\"T_b3a37_row1_col4\" class=\"data row1 col4\" >0.215888</td>\n",
       "      <td id=\"T_b3a37_row1_col5\" class=\"data row1 col5\" >0.085176</td>\n",
       "      <td id=\"T_b3a37_row1_col6\" class=\"data row1 col6\" >0.085861</td>\n",
       "      <td id=\"T_b3a37_row1_col7\" class=\"data row1 col7\" >0.212651</td>\n",
       "      <td id=\"T_b3a37_row1_col8\" class=\"data row1 col8\" >0.146631</td>\n",
       "      <td id=\"T_b3a37_row1_col9\" class=\"data row1 col9\" >0.040696</td>\n",
       "      <td id=\"T_b3a37_row1_col10\" class=\"data row1 col10\" >0.208539</td>\n",
       "      <td id=\"T_b3a37_row1_col11\" class=\"data row1 col11\" >0.163601</td>\n",
       "    </tr>\n",
       "    <tr>\n",
       "      <th id=\"T_b3a37_level0_row2\" class=\"row_heading level0 row2\" >Risk</th>\n",
       "      <td id=\"T_b3a37_row2_col0\" class=\"data row2 col0\" >3.085932</td>\n",
       "      <td id=\"T_b3a37_row2_col1\" class=\"data row2 col1\" >4.992626</td>\n",
       "      <td id=\"T_b3a37_row2_col2\" class=\"data row2 col2\" >3.363163</td>\n",
       "      <td id=\"T_b3a37_row2_col3\" class=\"data row2 col3\" >2.510139</td>\n",
       "      <td id=\"T_b3a37_row2_col4\" class=\"data row2 col4\" >3.292716</td>\n",
       "      <td id=\"T_b3a37_row2_col5\" class=\"data row2 col5\" >2.321582</td>\n",
       "      <td id=\"T_b3a37_row2_col6\" class=\"data row2 col6\" >1.343780</td>\n",
       "      <td id=\"T_b3a37_row2_col7\" class=\"data row2 col7\" >2.396989</td>\n",
       "      <td id=\"T_b3a37_row2_col8\" class=\"data row2 col8\" >2.603758</td>\n",
       "      <td id=\"T_b3a37_row2_col9\" class=\"data row2 col9\" >1.608911</td>\n",
       "      <td id=\"T_b3a37_row2_col10\" class=\"data row2 col10\" >3.498108</td>\n",
       "      <td id=\"T_b3a37_row2_col11\" class=\"data row2 col11\" >2.428540</td>\n",
       "    </tr>\n",
       "    <tr>\n",
       "      <th id=\"T_b3a37_level0_row3\" class=\"row_heading level0 row3\" >trailingPE</th>\n",
       "      <td id=\"T_b3a37_row3_col0\" class=\"data row3 col0\" >18.687178</td>\n",
       "      <td id=\"T_b3a37_row3_col1\" class=\"data row3 col1\" >0.000000</td>\n",
       "      <td id=\"T_b3a37_row3_col2\" class=\"data row3 col2\" >30.689133</td>\n",
       "      <td id=\"T_b3a37_row3_col3\" class=\"data row3 col3\" >26.171608</td>\n",
       "      <td id=\"T_b3a37_row3_col4\" class=\"data row3 col4\" >29.046870</td>\n",
       "      <td id=\"T_b3a37_row3_col5\" class=\"data row3 col5\" >71.999520</td>\n",
       "      <td id=\"T_b3a37_row3_col6\" class=\"data row3 col6\" >15.530036</td>\n",
       "      <td id=\"T_b3a37_row3_col7\" class=\"data row3 col7\" >33.035240</td>\n",
       "      <td id=\"T_b3a37_row3_col8\" class=\"data row3 col8\" >30.087906</td>\n",
       "      <td id=\"T_b3a37_row3_col9\" class=\"data row3 col9\" >0.000000</td>\n",
       "      <td id=\"T_b3a37_row3_col10\" class=\"data row3 col10\" >24.062405</td>\n",
       "      <td id=\"T_b3a37_row3_col11\" class=\"data row3 col11\" >20.043198</td>\n",
       "    </tr>\n",
       "    <tr>\n",
       "      <th id=\"T_b3a37_level0_row4\" class=\"row_heading level0 row4\" >Sharpe</th>\n",
       "      <td id=\"T_b3a37_row4_col0\" class=\"data row4 col0\" >0.042952</td>\n",
       "      <td id=\"T_b3a37_row4_col1\" class=\"data row4 col1\" >0.022673</td>\n",
       "      <td id=\"T_b3a37_row4_col2\" class=\"data row4 col2\" >0.045166</td>\n",
       "      <td id=\"T_b3a37_row4_col3\" class=\"data row4 col3\" >0.047775</td>\n",
       "      <td id=\"T_b3a37_row4_col4\" class=\"data row4 col4\" >0.050380</td>\n",
       "      <td id=\"T_b3a37_row4_col5\" class=\"data row4 col5\" >0.015152</td>\n",
       "      <td id=\"T_b3a37_row4_col6\" class=\"data row4 col6\" >0.026687</td>\n",
       "      <td id=\"T_b3a37_row4_col7\" class=\"data row4 col7\" >0.067856</td>\n",
       "      <td id=\"T_b3a37_row4_col8\" class=\"data row4 col8\" >0.037112</td>\n",
       "      <td id=\"T_b3a37_row4_col9\" class=\"data row4 col9\" >-0.005783</td>\n",
       "      <td id=\"T_b3a37_row4_col10\" class=\"data row4 col10\" >0.045321</td>\n",
       "      <td id=\"T_b3a37_row4_col11\" class=\"data row4 col11\" >0.046778</td>\n",
       "    </tr>\n",
       "    <tr>\n",
       "      <th id=\"T_b3a37_level0_row5\" class=\"row_heading level0 row5\" >TotalRisk</th>\n",
       "      <td id=\"T_b3a37_row5_col0\" class=\"data row5 col0\" >9.522976</td>\n",
       "      <td id=\"T_b3a37_row5_col1\" class=\"data row5 col1\" >24.926318</td>\n",
       "      <td id=\"T_b3a37_row5_col2\" class=\"data row5 col2\" >11.310864</td>\n",
       "      <td id=\"T_b3a37_row5_col3\" class=\"data row5 col3\" >6.300798</td>\n",
       "      <td id=\"T_b3a37_row5_col4\" class=\"data row5 col4\" >10.841977</td>\n",
       "      <td id=\"T_b3a37_row5_col5\" class=\"data row5 col5\" >5.389745</td>\n",
       "      <td id=\"T_b3a37_row5_col6\" class=\"data row5 col6\" >1.805744</td>\n",
       "      <td id=\"T_b3a37_row5_col7\" class=\"data row5 col7\" >5.745555</td>\n",
       "      <td id=\"T_b3a37_row5_col8\" class=\"data row5 col8\" >6.779554</td>\n",
       "      <td id=\"T_b3a37_row5_col9\" class=\"data row5 col9\" >2.588596</td>\n",
       "      <td id=\"T_b3a37_row5_col10\" class=\"data row5 col10\" >12.236758</td>\n",
       "      <td id=\"T_b3a37_row5_col11\" class=\"data row5 col11\" >5.897805</td>\n",
       "    </tr>\n",
       "    <tr>\n",
       "      <th id=\"T_b3a37_level0_row6\" class=\"row_heading level0 row6\" >SystRisk</th>\n",
       "      <td id=\"T_b3a37_row6_col0\" class=\"data row6 col0\" >7.878698</td>\n",
       "      <td id=\"T_b3a37_row6_col1\" class=\"data row6 col1\" >10.734336</td>\n",
       "      <td id=\"T_b3a37_row6_col2\" class=\"data row6 col2\" >8.663085</td>\n",
       "      <td id=\"T_b3a37_row6_col3\" class=\"data row6 col3\" >6.073460</td>\n",
       "      <td id=\"T_b3a37_row6_col4\" class=\"data row6 col4\" >8.329937</td>\n",
       "      <td id=\"T_b3a37_row6_col5\" class=\"data row6 col5\" >5.797794</td>\n",
       "      <td id=\"T_b3a37_row6_col6\" class=\"data row6 col6\" >3.145664</td>\n",
       "      <td id=\"T_b3a37_row6_col7\" class=\"data row6 col7\" >4.982483</td>\n",
       "      <td id=\"T_b3a37_row6_col8\" class=\"data row6 col8\" >6.779554</td>\n",
       "      <td id=\"T_b3a37_row6_col9\" class=\"data row6 col9\" >3.102220</td>\n",
       "      <td id=\"T_b3a37_row6_col10\" class=\"data row6 col10\" >8.824833</td>\n",
       "      <td id=\"T_b3a37_row6_col11\" class=\"data row6 col11\" >6.070945</td>\n",
       "    </tr>\n",
       "    <tr>\n",
       "      <th id=\"T_b3a37_level0_row7\" class=\"row_heading level0 row7\" >UnsystRisk</th>\n",
       "      <td id=\"T_b3a37_row7_col0\" class=\"data row7 col0\" >1.644278</td>\n",
       "      <td id=\"T_b3a37_row7_col1\" class=\"data row7 col1\" >14.191982</td>\n",
       "      <td id=\"T_b3a37_row7_col2\" class=\"data row7 col2\" >2.647779</td>\n",
       "      <td id=\"T_b3a37_row7_col3\" class=\"data row7 col3\" >0.227338</td>\n",
       "      <td id=\"T_b3a37_row7_col4\" class=\"data row7 col4\" >2.512039</td>\n",
       "      <td id=\"T_b3a37_row7_col5\" class=\"data row7 col5\" >-0.408049</td>\n",
       "      <td id=\"T_b3a37_row7_col6\" class=\"data row7 col6\" >-1.339921</td>\n",
       "      <td id=\"T_b3a37_row7_col7\" class=\"data row7 col7\" >0.763072</td>\n",
       "      <td id=\"T_b3a37_row7_col8\" class=\"data row7 col8\" >0.000000</td>\n",
       "      <td id=\"T_b3a37_row7_col9\" class=\"data row7 col9\" >-0.513624</td>\n",
       "      <td id=\"T_b3a37_row7_col10\" class=\"data row7 col10\" >3.411925</td>\n",
       "      <td id=\"T_b3a37_row7_col11\" class=\"data row7 col11\" >-0.173140</td>\n",
       "    </tr>\n",
       "    <tr>\n",
       "      <th id=\"T_b3a37_level0_row8\" class=\"row_heading level0 row8\" >weight</th>\n",
       "      <td id=\"T_b3a37_row8_col0\" class=\"data row8 col0\" >10.679002</td>\n",
       "      <td id=\"T_b3a37_row8_col1\" class=\"data row8 col1\" >0.221946</td>\n",
       "      <td id=\"T_b3a37_row8_col2\" class=\"data row8 col2\" >15.841845</td>\n",
       "      <td id=\"T_b3a37_row8_col3\" class=\"data row8 col3\" >10.687977</td>\n",
       "      <td id=\"T_b3a37_row8_col4\" class=\"data row8 col4\" >15.612802</td>\n",
       "      <td id=\"T_b3a37_row8_col5\" class=\"data row8 col5\" >2.054320</td>\n",
       "      <td id=\"T_b3a37_row8_col6\" class=\"data row8 col6\" >2.546026</td>\n",
       "      <td id=\"T_b3a37_row8_col7\" class=\"data row8 col7\" >22.621992</td>\n",
       "      <td id=\"T_b3a37_row8_col8\" class=\"data row8 col8\" >0.066268</td>\n",
       "      <td id=\"T_b3a37_row8_col9\" class=\"data row8 col9\" >1.114428</td>\n",
       "      <td id=\"T_b3a37_row8_col10\" class=\"data row8 col10\" >6.127083</td>\n",
       "      <td id=\"T_b3a37_row8_col11\" class=\"data row8 col11\" >12.426310</td>\n",
       "    </tr>\n",
       "    <tr>\n",
       "      <th id=\"T_b3a37_level0_row9\" class=\"row_heading level0 row9\" >weight1</th>\n",
       "      <td id=\"T_b3a37_row9_col0\" class=\"data row9 col0\" >10.679002</td>\n",
       "      <td id=\"T_b3a37_row9_col1\" class=\"data row9 col1\" >0.221946</td>\n",
       "      <td id=\"T_b3a37_row9_col2\" class=\"data row9 col2\" >15.841845</td>\n",
       "      <td id=\"T_b3a37_row9_col3\" class=\"data row9 col3\" >10.687977</td>\n",
       "      <td id=\"T_b3a37_row9_col4\" class=\"data row9 col4\" >15.612802</td>\n",
       "      <td id=\"T_b3a37_row9_col5\" class=\"data row9 col5\" >2.054320</td>\n",
       "      <td id=\"T_b3a37_row9_col6\" class=\"data row9 col6\" >2.546026</td>\n",
       "      <td id=\"T_b3a37_row9_col7\" class=\"data row9 col7\" >22.621992</td>\n",
       "      <td id=\"T_b3a37_row9_col8\" class=\"data row9 col8\" >0.066268</td>\n",
       "      <td id=\"T_b3a37_row9_col9\" class=\"data row9 col9\" >1.114428</td>\n",
       "      <td id=\"T_b3a37_row9_col10\" class=\"data row9 col10\" >6.127083</td>\n",
       "      <td id=\"T_b3a37_row9_col11\" class=\"data row9 col11\" >12.426310</td>\n",
       "    </tr>\n",
       "    <tr>\n",
       "      <th id=\"T_b3a37_level0_row10\" class=\"row_heading level0 row10\" >beta</th>\n",
       "      <td id=\"T_b3a37_row10_col0\" class=\"data row10 col0\" >1.162126</td>\n",
       "      <td id=\"T_b3a37_row10_col1\" class=\"data row10 col1\" >1.583340</td>\n",
       "      <td id=\"T_b3a37_row10_col2\" class=\"data row10 col2\" >1.277825</td>\n",
       "      <td id=\"T_b3a37_row10_col3\" class=\"data row10 col3\" >0.895850</td>\n",
       "      <td id=\"T_b3a37_row10_col4\" class=\"data row10 col4\" >1.228685</td>\n",
       "      <td id=\"T_b3a37_row10_col5\" class=\"data row10 col5\" >0.855188</td>\n",
       "      <td id=\"T_b3a37_row10_col6\" class=\"data row10 col6\" >0.463993</td>\n",
       "      <td id=\"T_b3a37_row10_col7\" class=\"data row10 col7\" >0.734928</td>\n",
       "      <td id=\"T_b3a37_row10_col8\" class=\"data row10 col8\" >1.000000</td>\n",
       "      <td id=\"T_b3a37_row10_col9\" class=\"data row10 col9\" >0.457585</td>\n",
       "      <td id=\"T_b3a37_row10_col10\" class=\"data row10 col10\" >1.301683</td>\n",
       "      <td id=\"T_b3a37_row10_col11\" class=\"data row10 col11\" >0.895479</td>\n",
       "    </tr>\n",
       "    <tr>\n",
       "      <th id=\"T_b3a37_level0_row11\" class=\"row_heading level0 row11\" >capm_ret</th>\n",
       "      <td id=\"T_b3a37_row11_col0\" class=\"data row11 col0\" >0.162298</td>\n",
       "      <td id=\"T_b3a37_row11_col1\" class=\"data row11 col1\" >0.203000</td>\n",
       "      <td id=\"T_b3a37_row11_col2\" class=\"data row11 col2\" >0.173478</td>\n",
       "      <td id=\"T_b3a37_row11_col3\" class=\"data row11 col3\" >0.136567</td>\n",
       "      <td id=\"T_b3a37_row11_col4\" class=\"data row11 col4\" >0.168730</td>\n",
       "      <td id=\"T_b3a37_row11_col5\" class=\"data row11 col5\" >0.132638</td>\n",
       "      <td id=\"T_b3a37_row11_col6\" class=\"data row11 col6\" >0.094836</td>\n",
       "      <td id=\"T_b3a37_row11_col7\" class=\"data row11 col7\" >0.121017</td>\n",
       "      <td id=\"T_b3a37_row11_col8\" class=\"data row11 col8\" >0.146631</td>\n",
       "      <td id=\"T_b3a37_row11_col9\" class=\"data row11 col9\" >0.094217</td>\n",
       "      <td id=\"T_b3a37_row11_col10\" class=\"data row11 col10\" >0.175784</td>\n",
       "      <td id=\"T_b3a37_row11_col11\" class=\"data row11 col11\" >0.136531</td>\n",
       "    </tr>\n",
       "    <tr>\n",
       "      <th id=\"T_b3a37_level0_row12\" class=\"row_heading level0 row12\" >alpha</th>\n",
       "      <td id=\"T_b3a37_row12_col0\" class=\"data row12 col0\" >0.020250</td>\n",
       "      <td id=\"T_b3a37_row12_col1\" class=\"data row12 col1\" >-0.039800</td>\n",
       "      <td id=\"T_b3a37_row12_col2\" class=\"data row12 col2\" >0.028423</td>\n",
       "      <td id=\"T_b3a37_row12_col3\" class=\"data row12 col3\" >0.033355</td>\n",
       "      <td id=\"T_b3a37_row12_col4\" class=\"data row12 col4\" >0.047159</td>\n",
       "      <td id=\"T_b3a37_row12_col5\" class=\"data row12 col5\" >-0.047462</td>\n",
       "      <td id=\"T_b3a37_row12_col6\" class=\"data row12 col6\" >-0.008975</td>\n",
       "      <td id=\"T_b3a37_row12_col7\" class=\"data row12 col7\" >0.091633</td>\n",
       "      <td id=\"T_b3a37_row12_col8\" class=\"data row12 col8\" >0.000000</td>\n",
       "      <td id=\"T_b3a37_row12_col9\" class=\"data row12 col9\" >-0.053522</td>\n",
       "      <td id=\"T_b3a37_row12_col10\" class=\"data row12 col10\" >0.032755</td>\n",
       "      <td id=\"T_b3a37_row12_col11\" class=\"data row12 col11\" >0.027070</td>\n",
       "    </tr>\n",
       "    <tr>\n",
       "      <th id=\"T_b3a37_level0_row13\" class=\"row_heading level0 row13\" >shortTermOutlook.scoreDescription</th>\n",
       "      <td id=\"T_b3a37_row13_col0\" class=\"data row13 col0\" >Bearish Evidence</td>\n",
       "      <td id=\"T_b3a37_row13_col1\" class=\"data row13 col1\" >Bearish Evidence</td>\n",
       "      <td id=\"T_b3a37_row13_col2\" class=\"data row13 col2\" >Weak Bearish Evidence</td>\n",
       "      <td id=\"T_b3a37_row13_col3\" class=\"data row13 col3\" >Bearish Evidence</td>\n",
       "      <td id=\"T_b3a37_row13_col4\" class=\"data row13 col4\" >Bullish Evidence</td>\n",
       "      <td id=\"T_b3a37_row13_col5\" class=\"data row13 col5\" >Strong Bullish Evidence</td>\n",
       "      <td id=\"T_b3a37_row13_col6\" class=\"data row13 col6\" >Very Strong Bullish Evidence</td>\n",
       "      <td id=\"T_b3a37_row13_col7\" class=\"data row13 col7\" >Strong Bullish Evidence</td>\n",
       "      <td id=\"T_b3a37_row13_col8\" class=\"data row13 col8\" >Strong Bullish Evidence</td>\n",
       "      <td id=\"T_b3a37_row13_col9\" class=\"data row13 col9\" >Very Strong Bearish Evidence</td>\n",
       "      <td id=\"T_b3a37_row13_col10\" class=\"data row13 col10\" >Bullish Evidence</td>\n",
       "      <td id=\"T_b3a37_row13_col11\" class=\"data row13 col11\" >Strong Bullish Evidence</td>\n",
       "    </tr>\n",
       "    <tr>\n",
       "      <th id=\"T_b3a37_level0_row14\" class=\"row_heading level0 row14\" >intermediateTermOutlook.scoreDescription</th>\n",
       "      <td id=\"T_b3a37_row14_col0\" class=\"data row14 col0\" >Bullish Evidence</td>\n",
       "      <td id=\"T_b3a37_row14_col1\" class=\"data row14 col1\" >Very Strong Bullish Evidence</td>\n",
       "      <td id=\"T_b3a37_row14_col2\" class=\"data row14 col2\" >Bearish Evidence</td>\n",
       "      <td id=\"T_b3a37_row14_col3\" class=\"data row14 col3\" >Weak Bearish Evidence</td>\n",
       "      <td id=\"T_b3a37_row14_col4\" class=\"data row14 col4\" >Weak Bearish Evidence</td>\n",
       "      <td id=\"T_b3a37_row14_col5\" class=\"data row14 col5\" >Strong Bullish Evidence</td>\n",
       "      <td id=\"T_b3a37_row14_col6\" class=\"data row14 col6\" >Bullish Evidence</td>\n",
       "      <td id=\"T_b3a37_row14_col7\" class=\"data row14 col7\" >Weak Bullish Evidence</td>\n",
       "      <td id=\"T_b3a37_row14_col8\" class=\"data row14 col8\" >Strong Bullish Evidence</td>\n",
       "      <td id=\"T_b3a37_row14_col9\" class=\"data row14 col9\" >Bearish Evidence</td>\n",
       "      <td id=\"T_b3a37_row14_col10\" class=\"data row14 col10\" >Bullish Evidence</td>\n",
       "      <td id=\"T_b3a37_row14_col11\" class=\"data row14 col11\" >Bullish Evidence</td>\n",
       "    </tr>\n",
       "    <tr>\n",
       "      <th id=\"T_b3a37_level0_row15\" class=\"row_heading level0 row15\" >longTermOutlook.scoreDescription</th>\n",
       "      <td id=\"T_b3a37_row15_col0\" class=\"data row15 col0\" >No Evidence</td>\n",
       "      <td id=\"T_b3a37_row15_col1\" class=\"data row15 col1\" >Bullish Evidence</td>\n",
       "      <td id=\"T_b3a37_row15_col2\" class=\"data row15 col2\" >Weak Bullish Evidence</td>\n",
       "      <td id=\"T_b3a37_row15_col3\" class=\"data row15 col3\" >Bullish Evidence</td>\n",
       "      <td id=\"T_b3a37_row15_col4\" class=\"data row15 col4\" >Weak Bullish Evidence</td>\n",
       "      <td id=\"T_b3a37_row15_col5\" class=\"data row15 col5\" >Strong Bullish Evidence</td>\n",
       "      <td id=\"T_b3a37_row15_col6\" class=\"data row15 col6\" >Weak Bullish Evidence</td>\n",
       "      <td id=\"T_b3a37_row15_col7\" class=\"data row15 col7\" >Weak Bullish Evidence</td>\n",
       "      <td id=\"T_b3a37_row15_col8\" class=\"data row15 col8\" >No Evidence</td>\n",
       "      <td id=\"T_b3a37_row15_col9\" class=\"data row15 col9\" >Strong Bullish Evidence</td>\n",
       "      <td id=\"T_b3a37_row15_col10\" class=\"data row15 col10\" >Weak Bullish Evidence</td>\n",
       "      <td id=\"T_b3a37_row15_col11\" class=\"data row15 col11\" >Weak Bullish Evidence</td>\n",
       "    </tr>\n",
       "    <tr>\n",
       "      <th id=\"T_b3a37_level0_row16\" class=\"row_heading level0 row16\" >UBAND</th>\n",
       "      <td id=\"T_b3a37_row16_col0\" class=\"data row16 col0\" >23.977566</td>\n",
       "      <td id=\"T_b3a37_row16_col1\" class=\"data row16 col1\" >21.118101</td>\n",
       "      <td id=\"T_b3a37_row16_col2\" class=\"data row16 col2\" >46.269650</td>\n",
       "      <td id=\"T_b3a37_row16_col3\" class=\"data row16 col3\" >153.961588</td>\n",
       "      <td id=\"T_b3a37_row16_col4\" class=\"data row16 col4\" >148.667406</td>\n",
       "      <td id=\"T_b3a37_row16_col5\" class=\"data row16 col5\" >70.769957</td>\n",
       "      <td id=\"T_b3a37_row16_col6\" class=\"data row16 col6\" >48.970769</td>\n",
       "      <td id=\"T_b3a37_row16_col7\" class=\"data row16 col7\" >68.557677</td>\n",
       "      <td id=\"T_b3a37_row16_col8\" class=\"data row16 col8\" >552.347531</td>\n",
       "      <td id=\"T_b3a37_row16_col9\" class=\"data row16 col9\" >102.917687</td>\n",
       "      <td id=\"T_b3a37_row16_col10\" class=\"data row16 col10\" >133.902812</td>\n",
       "      <td id=\"T_b3a37_row16_col11\" class=\"data row16 col11\" >73.486881</td>\n",
       "    </tr>\n",
       "    <tr>\n",
       "      <th id=\"T_b3a37_level0_row17\" class=\"row_heading level0 row17\" >Adj Close</th>\n",
       "      <td id=\"T_b3a37_row17_col0\" class=\"data row17 col0\" >23.780001</td>\n",
       "      <td id=\"T_b3a37_row17_col1\" class=\"data row17 col1\" >18.879999</td>\n",
       "      <td id=\"T_b3a37_row17_col2\" class=\"data row17 col2\" >46.259998</td>\n",
       "      <td id=\"T_b3a37_row17_col3\" class=\"data row17 col3\" >152.679993</td>\n",
       "      <td id=\"T_b3a37_row17_col4\" class=\"data row17 col4\" >148.250000</td>\n",
       "      <td id=\"T_b3a37_row17_col5\" class=\"data row17 col5\" >71.002296</td>\n",
       "      <td id=\"T_b3a37_row17_col6\" class=\"data row17 col6\" >49.090000</td>\n",
       "      <td id=\"T_b3a37_row17_col7\" class=\"data row17 col7\" >70.089996</td>\n",
       "      <td id=\"T_b3a37_row17_col8\" class=\"data row17 col8\" >552.309998</td>\n",
       "      <td id=\"T_b3a37_row17_col9\" class=\"data row17 col9\" >98.849998</td>\n",
       "      <td id=\"T_b3a37_row17_col10\" class=\"data row17 col10\" >136.070007</td>\n",
       "      <td id=\"T_b3a37_row17_col11\" class=\"data row17 col11\" >73.300003</td>\n",
       "    </tr>\n",
       "    <tr>\n",
       "      <th id=\"T_b3a37_level0_row18\" class=\"row_heading level0 row18\" >LBAND</th>\n",
       "      <td id=\"T_b3a37_row18_col0\" class=\"data row18 col0\" >22.001720</td>\n",
       "      <td id=\"T_b3a37_row18_col1\" class=\"data row18 col1\" >10.381327</td>\n",
       "      <td id=\"T_b3a37_row18_col2\" class=\"data row18 col2\" >43.126255</td>\n",
       "      <td id=\"T_b3a37_row18_col3\" class=\"data row18 col3\" >124.086031</td>\n",
       "      <td id=\"T_b3a37_row18_col4\" class=\"data row18 col4\" >122.296404</td>\n",
       "      <td id=\"T_b3a37_row18_col5\" class=\"data row18 col5\" >66.293009</td>\n",
       "      <td id=\"T_b3a37_row18_col6\" class=\"data row18 col6\" >43.220660</td>\n",
       "      <td id=\"T_b3a37_row18_col7\" class=\"data row18 col7\" >61.824705</td>\n",
       "      <td id=\"T_b3a37_row18_col8\" class=\"data row18 col8\" >519.422465</td>\n",
       "      <td id=\"T_b3a37_row18_col9\" class=\"data row18 col9\" >93.231837</td>\n",
       "      <td id=\"T_b3a37_row18_col10\" class=\"data row18 col10\" >116.630046</td>\n",
       "      <td id=\"T_b3a37_row18_col11\" class=\"data row18 col11\" >63.133596</td>\n",
       "    </tr>\n",
       "    <tr>\n",
       "      <th id=\"T_b3a37_level0_row19\" class=\"row_heading level0 row19\" >MACD_prc</th>\n",
       "      <td id=\"T_b3a37_row19_col0\" class=\"data row19 col0\" >19.536903</td>\n",
       "      <td id=\"T_b3a37_row19_col1\" class=\"data row19 col1\" >37.481910</td>\n",
       "      <td id=\"T_b3a37_row19_col2\" class=\"data row19 col2\" >48.914616</td>\n",
       "      <td id=\"T_b3a37_row19_col3\" class=\"data row19 col3\" >69.030391</td>\n",
       "      <td id=\"T_b3a37_row19_col4\" class=\"data row19 col4\" >56.005789</td>\n",
       "      <td id=\"T_b3a37_row19_col5\" class=\"data row19 col5\" >66.714906</td>\n",
       "      <td id=\"T_b3a37_row19_col6\" class=\"data row19 col6\" >49.638205</td>\n",
       "      <td id=\"T_b3a37_row19_col7\" class=\"data row19 col7\" >98.263386</td>\n",
       "      <td id=\"T_b3a37_row19_col8\" class=\"data row19 col8\" >38.784370</td>\n",
       "      <td id=\"T_b3a37_row19_col9\" class=\"data row19 col9\" >13.024602</td>\n",
       "      <td id=\"T_b3a37_row19_col10\" class=\"data row19 col10\" >74.384949</td>\n",
       "      <td id=\"T_b3a37_row19_col11\" class=\"data row19 col11\" >51.953690</td>\n",
       "    </tr>\n",
       "    <tr>\n",
       "      <th id=\"T_b3a37_level0_row20\" class=\"row_heading level0 row20\" >RSI_prc</th>\n",
       "      <td id=\"T_b3a37_row20_col0\" class=\"data row20 col0\" >34.164223</td>\n",
       "      <td id=\"T_b3a37_row20_col1\" class=\"data row20 col1\" >59.824047</td>\n",
       "      <td id=\"T_b3a37_row20_col2\" class=\"data row20 col2\" >54.692082</td>\n",
       "      <td id=\"T_b3a37_row20_col3\" class=\"data row20 col3\" >76.099707</td>\n",
       "      <td id=\"T_b3a37_row20_col4\" class=\"data row20 col4\" >72.287390</td>\n",
       "      <td id=\"T_b3a37_row20_col5\" class=\"data row20 col5\" >57.624633</td>\n",
       "      <td id=\"T_b3a37_row20_col6\" class=\"data row20 col6\" >47.360704</td>\n",
       "      <td id=\"T_b3a37_row20_col7\" class=\"data row20 col7\" >86.510264</td>\n",
       "      <td id=\"T_b3a37_row20_col8\" class=\"data row20 col8\" >39.149560</td>\n",
       "      <td id=\"T_b3a37_row20_col9\" class=\"data row20 col9\" >11.143695</td>\n",
       "      <td id=\"T_b3a37_row20_col10\" class=\"data row20 col10\" >68.768328</td>\n",
       "      <td id=\"T_b3a37_row20_col11\" class=\"data row20 col11\" >47.507331</td>\n",
       "    </tr>\n",
       "    <tr>\n",
       "      <th id=\"T_b3a37_level0_row21\" class=\"row_heading level0 row21\" >url</th>\n",
       "      <td id=\"T_b3a37_row21_col0\" class=\"data row21 col0\" ><a href='https://www.etfdb.com/etf/CLSE/#holdings' target='_blank'>CLSE</a></td>\n",
       "      <td id=\"T_b3a37_row21_col1\" class=\"data row21 col1\" ><a href='https://www.etfdb.com/etf/CRPT/#holdings' target='_blank'>CRPT</a></td>\n",
       "      <td id=\"T_b3a37_row21_col2\" class=\"data row21 col2\" ><a href='https://www.etfdb.com/etf/HTUS/#holdings' target='_blank'>HTUS</a></td>\n",
       "      <td id=\"T_b3a37_row21_col3\" class=\"data row21 col3\" ><a href='https://www.etfdb.com/etf/IAI/#holdings' target='_blank'>IAI</a></td>\n",
       "      <td id=\"T_b3a37_row21_col4\" class=\"data row21 col4\" ><a href='https://www.etfdb.com/etf/KCE/#holdings' target='_blank'>KCE</a></td>\n",
       "      <td id=\"T_b3a37_row21_col5\" class=\"data row21 col5\" ><a href='https://www.etfdb.com/etf/PSP/#holdings' target='_blank'>PSP</a></td>\n",
       "      <td id=\"T_b3a37_row21_col6\" class=\"data row21 col6\" ><a href='https://www.etfdb.com/etf/SPSM/#holdings' target='_blank'>SPSM</a></td>\n",
       "      <td id=\"T_b3a37_row21_col7\" class=\"data row21 col7\" ><a href='https://www.etfdb.com/etf/UTES/#holdings' target='_blank'>UTES</a></td>\n",
       "      <td id=\"T_b3a37_row21_col8\" class=\"data row21 col8\" ><a href='https://www.etfdb.com/etf/VOO/#holdings' target='_blank'>VOO</a></td>\n",
       "      <td id=\"T_b3a37_row21_col9\" class=\"data row21 col9\" ><a href='https://www.etfdb.com/etf/XBI/#holdings' target='_blank'>XBI</a></td>\n",
       "      <td id=\"T_b3a37_row21_col10\" class=\"data row21 col10\" ><a href='https://www.etfdb.com/etf/XMMO/#holdings' target='_blank'>XMMO</a></td>\n",
       "      <td id=\"T_b3a37_row21_col11\" class=\"data row21 col11\" ><a href='https://www.etfdb.com/etf/XSMO/#holdings' target='_blank'>XSMO</a></td>\n",
       "    </tr>\n",
       "  </tbody>\n",
       "</table>\n"
      ],
      "text/plain": [
       "<IPython.core.display.HTML object>"
      ]
     },
     "metadata": {},
     "output_type": "display_data"
    }
   ],
   "source": [
    "summary['url'] = summary.index\n",
    "summary[\"url\"] = summary.apply(lambda row: \"<a href='https://www.etfdb.com/etf/{}/#holdings' target='_blank'>{}</a>\".format(row.url, row.url), axis=1)\n",
    "display(HTML(summary.infer_objects(copy=False).fillna('').T.style.apply(h_bull, axis=1).apply(h_bear, axis=1).apply(h_min, axis=1).apply(h_max, axis=1).to_html(escape=False)))"
   ]
  },
  {
   "cell_type": "markdown",
   "id": "11d3dc1d-5b1e-4faa-9696-2b92585bb140",
   "metadata": {
    "jp-MarkdownHeadingCollapsed": true,
    "tags": []
   },
   "source": [
    "## Sharpe vs Sortino ##"
   ]
  },
  {
   "cell_type": "code",
   "execution_count": 12,
   "id": "093a0d04-03ae-499f-a81b-672c3c744fde",
   "metadata": {
    "jupyter": {
     "source_hidden": true
    },
    "tags": []
   },
   "outputs": [
    {
     "data": {
      "image/png": "[encoded data removed]",
      "text/plain": [
       "<Figure size 1600x600 with 2 Axes>"
      ]
     },
     "metadata": {},
     "output_type": "display_data"
    }
   ],
   "source": [
    "fig, axes = plt.subplots(1, 2, sharey=True, figsize=(16, 6))\n",
    "axes[0].scatter(summary.loc[:, \"Risk\"], summary.loc[:, \"Return\"]*100, s=10, marker=\"x\", c=\"lime\")\n",
    "axes[0].scatter(port_summary.loc[:, \"Risk\"], port_summary.loc[:, \"Return\"]*100, s=8, c=port_summary.loc[:, \"Sharpe\"], cmap=\"coolwarm\",\n",
    "    vmin=port_summary.Sharpe.min(), vmax=port_summary.loc[msrp].Sharpe, alpha=.7)\n",
    "for i in summary.index:\n",
    "    axes[0].annotate(i, xy=(summary.loc[i, \"Risk\"]+0.0002, summary.loc[i, \"Return\"]*100+.5), size=8, c=\"lime\")\n",
    "\n",
    "axes[1].scatter(summary.loc[:, \"Risk\"], summary.loc[:, \"Return\"]*100, s=10, marker=\"x\", c=\"lime\")\n",
    "axes[1].scatter(port_summary.loc[:, \"Risk\"], port_summary.loc[:, \"Return\"]*100, s=8, c=port_summary.loc[:, \"Sortino\"], cmap=\"coolwarm\",\n",
    "    vmin=port_summary.Sortino.min(), vmax=port_summary.loc[msrp1].Sortino, alpha=.7)\n",
    "for i in summary.index:\n",
    "    axes[1].annotate(i, xy=(summary.loc[i, \"Risk\"]-0.1, summary.loc[i, \"Return\"]*100-1.5), size=8, c=\"lime\")\n",
    "\n",
    "axes[0].set_xlabel('Risk(std)')\n",
    "axes[0].set_ylabel('Return')\n",
    "axes[1].set_xlabel('Risk(std)')\n",
    "axes[1].set_ylabel('Return')\n",
    "\n",
    "axes[0].set_title(f\"Sharpe Ratio: ({port_summary.loc[msrp].Return*100:.1f}% return {str(start)[:4]}-{end[:4]})\")\n",
    "axes[1].set_title(f\"Sortino Ratio: ({port_summary.loc[msrp1].Return*100:.1f}% return {str(start)[:4]}-{end[:4]})\")\n",
    "plt.show()"
   ]
  },
  {
   "cell_type": "code",
   "execution_count": 13,
   "id": "0d452b2d-6a71-45d6-a886-d06c9a1e3f20",
   "metadata": {
    "jupyter": {
     "source_hidden": true
    }
   },
   "outputs": [
    {
     "name": "stdout",
     "output_type": "stream",
     "text": [
      "100% of samples in favor of Sortino\n"
     ]
    }
   ],
   "source": [
    "# Today's liquidation\n",
    "s0 = 0\n",
    "for v in range(100):\n",
    "    ploc = int(v*(prices.shape[0]/100))\n",
    "    df = (prices/prices.iloc[ploc]).dropna()\n",
    "    df['Sharpe'], df['Sortino'] = (df.iloc[:,:len(msrp_w)] * msrp_w).sum(axis=1), (df.iloc[:,:len(msrp1_w)] * msrp1_w).sum(axis=1)\n",
    "    ratios = (ann_risk_return(df.iloc[ploc:,-2:])['Return']*100)[-2:].values\n",
    "    s0 = s0 + 1 if ratios[0] > ratios[1] else s0 -1\n",
    "model = 'Sharpe' if s0 > 0 else 'Sortino'\n",
    "print(f\"{abs(s0)}% of samples in favor of {model}\")"
   ]
  },
  {
   "cell_type": "code",
   "execution_count": 14,
   "id": "0cd917d8-c177-46a5-9a50-691d1c9200da",
   "metadata": {
    "jupyter": {
     "source_hidden": true
    }
   },
   "outputs": [
    {
     "name": "stdout",
     "output_type": "stream",
     "text": [
      "99% of samples in favor of Sortino\n"
     ]
    }
   ],
   "source": [
    "# Range of liquidations, start prices\n",
    "s0 = 0\n",
    "for v in range(99, 0, -1):\n",
    "    ploc = int(v * (prices.shape[0] / 100))\n",
    "    if ploc < 2:\n",
    "        continue\n",
    "    df = (prices / prices.iloc[0]).dropna()\n",
    "    df['Sharpe'], df['Sortino'] = (df.iloc[:,:len(msrp_w)] * msrp_w).sum(axis=1), (df.iloc[:,:len(msrp1_w)] * msrp1_w).sum(axis=1)\n",
    "    ratios = (ann_risk_return(df.iloc[:ploc,-2:])['Return']*100)[-2:].values\n",
    "    s0 = s0 + 1 if ratios[0] > ratios[1] else s0 -1\n",
    "model = 'Sharpe' if s0 > 0 else 'Sortino'\n",
    "print(f\"{abs(s0)}% of samples in favor of {model}\")"
   ]
  },
  {
   "cell_type": "code",
   "execution_count": 15,
   "id": "ee438d45-1191-4b7f-a277-dfd19487359b",
   "metadata": {
    "jupyter": {
     "source_hidden": true
    },
    "tags": []
   },
   "outputs": [
    {
     "data": {
      "text/html": [
       "<iframe\n",
       "    scrolling=\"no\"\n",
       "    width=\"1020px\"\n",
       "    height=\"520\"\n",
       "    src=\"iframe_figures/figure_15.html\"\n",
       "    frameborder=\"0\"\n",
       "    allowfullscreen\n",
       "></iframe>\n"
      ]
     },
     "metadata": {},
     "output_type": "display_data"
    }
   ],
   "source": [
    "fig = make_subplots(rows=1, cols=2, subplot_titles=(\"Price Correlation\", \"% Change Correlation\"))#, \"Price Covariance\"))\n",
    "kw = {\n",
    "    'x':prices.columns,\n",
    "    'y':prices.columns,\n",
    "    'colorscale': \"Jet\",\n",
    "    'showscale':False,\n",
    "}\n",
    "f1 = go.Heatmap(name='Correlation', z=prices.corr(), zmid=0.0, **kw)\n",
    "f2 = go.Heatmap(name='% Changes Correlation', z=prices.pct_change().corr(), zmid=0.0, **kw)\n",
    "# f3 = go.Heatmap(name='Price Covariance', z=prices.cov(), zmid=0.0, **kw)\n",
    "\n",
    "fig.add_trace(f1, row=1, col=1)\n",
    "fig.add_trace(f2, row=1, col=2)\n",
    "# fig.add_trace(f3, row=1, col=3)\n",
    "fig.update_layout(template=template, height=500, width=1000, margin=dict(l=10, r=10, b=10, t=20))\n",
    "fig.update_yaxes(autorange=\"reversed\")\n",
    "fig.show()"
   ]
  },
  {
   "cell_type": "code",
   "execution_count": 16,
   "id": "c7f6bc3f-9c5f-4a39-8b6b-5f2c341ceeff",
   "metadata": {
    "jupyter": {
     "source_hidden": true
    },
    "tags": []
   },
   "outputs": [
    {
     "data": {
      "image/png": "[encoded data removed]",
      "text/plain": [
       "<Figure size 640x480 with 2 Axes>"
      ]
     },
     "metadata": {},
     "output_type": "display_data"
    }
   ],
   "source": [
    "fig, (ax1, ax2) = plt.subplots(1,2)\n",
    "prices.index = pd.to_datetime(prices.index)\n",
    "ax={'sharpe': ax1, 'sortino': ax2}\n",
    "for i, v in ax.items():\n",
    "    p_tr = prices[i].resample(\"ME\").last()\n",
    "    p_ret = np.log(p_tr / p_tr.shift()).dropna().to_frame()\n",
    "    p_ret.columns = [\"Return\"]\n",
    "    windows = [year for year in range(p_ret.index.size, 0, -1)]\n",
    "    for period in windows:\n",
    "        p_ret[\"#{}\".format(period)] = p_ret.Return.rolling(period).mean()\n",
    "    triangle = p_ret.drop(columns = [\"Return\"])\n",
    "    triangle.index = triangle.index.to_period('M')\n",
    "    sns.heatmap(triangle, annot=False, cmap=\"RdYlGn\", vmin=-0.2/12, vmax=0.2/12, center=0, cbar=False, ax=v)\n",
    "\n",
    "# plt.figure(figsize=(80,50))\n",
    "plt.tick_params(axis = \"y\", labelright =True, labelleft=False, grid_alpha=.5)\n",
    "plt.xticks(rotation=45)\n",
    "plt.yticks(rotation=0)\n",
    "plt.show()"
   ]
  },
  {
   "cell_type": "code",
   "execution_count": 17,
   "id": "66a631b4-8670-434c-b55d-4fb3892e9e4a",
   "metadata": {
    "jupyter": {
     "source_hidden": true
    },
    "tags": []
   },
   "outputs": [
    {
     "data": {
      "text/html": [
       "<iframe\n",
       "    scrolling=\"no\"\n",
       "    width=\"100%\"\n",
       "    height=\"545px\"\n",
       "    src=\"iframe_figures/figure_17.html\"\n",
       "    frameborder=\"0\"\n",
       "    allowfullscreen\n",
       "></iframe>\n"
      ]
     },
     "metadata": {},
     "output_type": "display_data"
    }
   ],
   "source": [
    "v=0\n",
    "log=True\n",
    "df = (prices/prices.iloc[int(v*(prices.shape[0]/100))]).dropna()\n",
    "ar = ann_risk_return(df.iloc[int(v*(prices.shape[0]/100)):])\n",
    "layout = dict(\n",
    "    title=\"Normalized Returns since {}. Sharpe: {:.1f}%. Sortino: {:.1f}%. Max: {:.1f} ({})\".format(\n",
    "        str(prices.iloc[int(v*(prices.shape[0]/100))].name)[:10],\n",
    "        ar.iloc[-2]['Return']*100,\n",
    "        ar.iloc[-1]['Return']*100,\n",
    "        ar.Return.iloc[ar.Return.argmax()]*100,\n",
    "        ar.iloc[ar.Return.argmax()].name\n",
    "    ),\n",
    "    log_y=True,\n",
    "    template=template\n",
    ")\n",
    "px.line(df, **layout)"
   ]
  },
  {
   "cell_type": "markdown",
   "id": "45c4b967-5152-45c1-8ad9-84f9f7432e28",
   "metadata": {
    "jp-MarkdownHeadingCollapsed": true,
    "tags": []
   },
   "source": [
    "## Pricing ##"
   ]
  },
  {
   "cell_type": "raw",
   "id": "4be6beac-ccb1-40a6-9916-e506071f0549",
   "metadata": {},
   "source": [
    "slider = widgets.IntSlider(min=1, value=42) # 60 calendar days\n",
    "def print_val(v):\n",
    "    print(f\"Trading days: {v} {adj_prices.rolling(v).min().iloc[-1,:]}\")\n",
    "    return (prices.pct_change(v)*100).iplot(title=f\"Sliding Returns over {v} days\", theme='solar')\n",
    "interact(print_val,v=slider);"
   ]
  },
  {
   "cell_type": "code",
   "execution_count": 18,
   "id": "b94f5249-540e-4330-a33c-2452bbb89efc",
   "metadata": {
    "jupyter": {
     "source_hidden": true
    }
   },
   "outputs": [
    {
     "data": {
      "text/html": [
       "<iframe\n",
       "    scrolling=\"no\"\n",
       "    width=\"100%\"\n",
       "    height=\"545px\"\n",
       "    src=\"iframe_figures/figure_18.html\"\n",
       "    frameborder=\"0\"\n",
       "    allowfullscreen\n",
       "></iframe>\n"
      ]
     },
     "metadata": {},
     "output_type": "display_data"
    }
   ],
   "source": [
    "fig = go.Figure()\n",
    "fig.add_trace(go.Bar(x=summary.index, y=summary['SystRisk'], name='SystRisk'))\n",
    "fig.add_trace(go.Bar(x=summary.index, y=summary['UnsystRisk'], name='UnsystRisk'))\n",
    "fig.update_layout({\n",
    "    # 'barmode': 'stack',\n",
    "    'title': \"Risks\",\n",
    "    'template': template,\n",
    "    'yaxis': {'title_text': \"Risk\"}\n",
    "})\n",
    "fig"
   ]
  },
  {
   "cell_type": "code",
   "execution_count": 19,
   "id": "70ff1198-88c0-43bc-87a6-6246ae1a0206",
   "metadata": {
    "jupyter": {
     "source_hidden": true
    },
    "tags": []
   },
   "outputs": [
    {
     "data": {
      "text/html": [
       "<iframe\n",
       "    scrolling=\"no\"\n",
       "    width=\"1020px\"\n",
       "    height=\"520\"\n",
       "    src=\"iframe_figures/figure_19.html\"\n",
       "    frameborder=\"0\"\n",
       "    allowfullscreen\n",
       "></iframe>\n"
      ]
     },
     "metadata": {},
     "output_type": "display_data"
    },
    {
     "data": {
      "application/vnd.jupyter.widget-view+json": {
       "model_id": "ad484febb41d475caea529c4debf65e3",
       "version_major": 2,
       "version_minor": 0
      },
      "text/plain": [
       "interactive(children=(IntSlider(value=1, description='v', max=8, min=1), Output()), _dom_classes=('widget-inte…"
      ]
     },
     "metadata": {},
     "output_type": "display_data"
    }
   ],
   "source": [
    "options = ['alpha', 'beta', 'Risk', 'SystRisk', 'UnsystRisk', 'TotalRisk', 'Sharpe', 'capm_ret']\n",
    "slider = widgets.IntSlider(min=1, max=len(options))\n",
    "def print_val(v):\n",
    "    titles = (f\"Sharpe Portfolio Components Return vs {options[v-1]}: {port_summary.loc[msrp].Return*100:.1f}% {start.strftime('%Y')}-{end[:4]}\",\n",
    "            f\"Sortino Portfolio Components Return vs {options[v-1]}: {port_summary.loc[msrp1].Return*100:.1f}% {start.strftime('%Y')}-{end[:4]}\")\n",
    "    fig = make_subplots(rows=2, cols=1, shared_xaxes=True, shared_yaxes=True, subplot_titles=titles)\n",
    "    kw = {\n",
    "        'hovertext': summary.index,\n",
    "        'x':summary[options[v-1]],\n",
    "        'y':summary['Return'],\n",
    "        'mode':'markers',\n",
    "        'marker':dict(size=summary['weight']+1, color=pd.factorize(summary['category'])[0]),\n",
    "        'showlegend': False,\n",
    "    }\n",
    "    kw1 = {\n",
    "        'hovertext': summary.index,\n",
    "        'x':summary[options[v-1]],\n",
    "        'y':summary['Return'],\n",
    "        'mode':'markers',\n",
    "        'marker':dict(size=summary['weight1']+1, color=pd.factorize(summary['category'])[0]),\n",
    "        'showlegend': False,\n",
    "    }\n",
    "    f1 = go.Scatter(**kw)\n",
    "    f2 = go.Scatter(**kw1)\n",
    "    \n",
    "    fig.add_trace(f1, row=1, col=1)\n",
    "    fig.add_trace(f2, row=2, col=1)\n",
    "    fig.update_layout(template=template, height=500, width=1000, margin=dict(l=10, r=10, b=10, t=30))\n",
    "    return fig\n",
    "\n",
    "interact(print_val,v=slider);"
   ]
  },
  {
   "cell_type": "markdown",
   "id": "0a656ec9-d8d4-4fa0-83a9-5abb7270e1a3",
   "metadata": {
    "jp-MarkdownHeadingCollapsed": true,
    "tags": []
   },
   "source": [
    "## Sectors ##"
   ]
  },
  {
   "cell_type": "code",
   "execution_count": 20,
   "id": "9c99ee7c-8173-44f6-b810-9056772c2a61",
   "metadata": {
    "jupyter": {
     "source_hidden": true
    },
    "tags": []
   },
   "outputs": [
    {
     "data": {
      "text/html": [
       "<iframe\n",
       "    scrolling=\"no\"\n",
       "    width=\"100%\"\n",
       "    height=\"545px\"\n",
       "    src=\"iframe_figures/figure_20.html\"\n",
       "    frameborder=\"0\"\n",
       "    allowfullscreen\n",
       "></iframe>\n"
      ]
     },
     "metadata": {},
     "output_type": "display_data"
    }
   ],
   "source": [
    "# Sector coverage in funds\n",
    "for i in range(summary.shape[0]):\n",
    "    try: # fund_sector_weightings fails for certain funds, need to find one that succeeds\n",
    "        if not any(tickers[summary.index[i]].fund_sector_weightings):\n",
    "            continue\n",
    "    except:\n",
    "        continue\n",
    "    break\n",
    "snames = tickers[summary.index[i]].fund_sector_weightings.index\n",
    "sectors=pd.DataFrame([\n",
    "    funds[fund][\"topHoldings\"]['sectorWeightings'] if funds[fund].get(\"topHoldings\",{}).get('sectorWeightings') else len(snames) * [None]\n",
    "    for fund in funds\n",
    "], index=summary.index, columns=snames).replace(to_replace=[None], value=[dict({'none': 0.0})])\n",
    "for c in sectors.columns:\n",
    "    sectors[c] = [v for d in sectors[c].values for v in d.values()]\n",
    "sectors = sectors.T\n",
    "sectors['sharpe']=(sectors * msrp_w).sum(axis=1)\n",
    "sectors['sortino']=(sectors * msrp1_w).sum(axis=1)\n",
    "sectors.sort_index(inplace=True)\n",
    "px.imshow(sectors*100, template=template, title='Top Sectors')"
   ]
  },
  {
   "cell_type": "markdown",
   "id": "22b3fac0-eeea-4355-b1a6-f25a62181add",
   "metadata": {
    "jp-MarkdownHeadingCollapsed": true,
    "tags": []
   },
   "source": [
    "## Overlaps ##"
   ]
  },
  {
   "cell_type": "code",
   "execution_count": 21,
   "id": "5289f6aa-7250-42cb-83ff-50a892a826f7",
   "metadata": {
    "jupyter": {
     "source_hidden": true
    },
    "tags": []
   },
   "outputs": [
    {
     "name": "stdout",
     "output_type": "stream",
     "text": [
      "Local cdn resources have problems on chrome/safari when used in jupyter-notebook. \n"
     ]
    },
    {
     "data": {
      "text/html": [
       "\n",
       "        <iframe\n",
       "            width=\"100%\"\n",
       "            height=\"800px\"\n",
       "            src=\"overlaps.html\"\n",
       "            frameborder=\"0\"\n",
       "            allowfullscreen\n",
       "            \n",
       "        ></iframe>\n",
       "        "
      ],
      "text/plain": [
       "<IPython.lib.display.IFrame at 0x7f8091ebfbd0>"
      ]
     },
     "execution_count": 21,
     "metadata": {},
     "output_type": "execute_result"
    }
   ],
   "source": [
    "g = net.Network(notebook=True, bgcolor='#111111', font_color='white', width=\"100%\", height=\"800px\")#, cdn_resources='in_line')\n",
    "# g.repulsion()\n",
    "g.physics = \"forceAtlas2Based\"\n",
    "# g.inherit_edge_colors(False)\n",
    "nxg=nx.complete_graph(0)\n",
    "for n in summary.index: # FIXME: colors of edges\n",
    "    kw = {'label':n, 'shape':'box'} #'size':abs(summary.loc[n, 'Return'])*100\n",
    "    kw['title'] = textwrap.fill(funds[n]['summaryProfile'].get('longBusinessSummary', funds[n]['summaryProfile'].get('description')), 60)\n",
    "    if summary.loc[n, 'Return'] < 0:\n",
    "        kw['color'] = 'red'\n",
    "    kw['borderWidth'] = abs(summary.loc[n]['Return']) * 100\n",
    "    kw['group'] = summary.loc[n]['category']\n",
    "    nxg.add_node(n, **kw)\n",
    "    for h in funds[n].get('topHoldings',{}).get('holdings',{}):\n",
    "        nxg.add_node(h['symbol'], label=h['holdingName'], shape='text')\n",
    "        nxg.add_edge(n, h['symbol'], value=h['holdingPercent'], title=f\"{100*h['holdingPercent']:.1f}%\")\n",
    "g.from_nx(nxg)\n",
    "g.show(\"overlaps.html\")"
   ]
  },
  {
   "cell_type": "markdown",
   "id": "6be5e3ca-40ae-4a03-8a90-582ed7b7f2e7",
   "metadata": {
    "jp-MarkdownHeadingCollapsed": true,
    "tags": []
   },
   "source": [
    "### Obsolete"
   ]
  },
  {
   "cell_type": "raw",
   "id": "4dcc3c80-689b-40ab-8a41-fc11206168bd",
   "metadata": {},
   "source": [
    "%%time\n",
    "cols = 2\n",
    "fig = make_subplots(rows=int((len(prices.columns)+1)/cols), cols=cols, shared_xaxes='all', vertical_spacing=.05, horizontal_spacing=.05,\n",
    "    subplot_titles=prices.columns, column_width=[1000/cols for i in range(cols)])\n",
    "premiums, rmses, currents, predicts, counter = [], [], [], [], 0\n",
    "for fund in prices.columns:\n",
    "    data, dataset, training_data_len = get_data(fund)\n",
    "    x_train, y_train, scaler, scaled_data = get_train()\n",
    "    pred_model = get_model(x_train, y_train)\n",
    "    predictions, rmse = get_predictions(scaler, scaled_data)\n",
    "    \n",
    "    rescale = 1 if fund in ['sharpe', 'sortino'] else idx.loc[start, 'Adj Close'][fund] / 100\n",
    "    train, valid = data[:training_data_len] * rescale, data[training_data_len:] * rescale\n",
    "    valid['Predictions'] = predictions * rescale\n",
    "    data[fund] = data[fund] * rescale\n",
    "    premium = valid.iloc[-1, 0]/valid.iloc[-1, 1] * 100 - 100\n",
    "    premiums.append(premium)\n",
    "    rmses.append(rmse)\n",
    "    currents.append(valid.iloc[-1, 0])\n",
    "    predicts.append(valid.iloc[-1, 1])\n",
    "\n",
    "    if fund in idx['LBAND'].columns:\n",
    "        fig_l = px.line(idx['LBAND'].filter([fund]), x=idx['LBAND'].filter([fund]).index, y=idx['LBAND'].filter([fund]).columns[0])\n",
    "        fig_u = px.line(idx['UBAND'].filter([fund]), x=idx['UBAND'].filter([fund]).index, y=idx['UBAND'].filter([fund]).columns[0])\n",
    "        fig_l.update_traces(line_color='#c0c0c0', line_width=1, hovertemplate='LBAND=%{y}<extra></extra>')\n",
    "        fig_u.update_traces(line_color='#c0c0c0', line_width=1, hovertemplate='UBAND=%{y}<extra></extra>')\n",
    "        fig.add_trace(fig_u.data[0], row=counter//cols+1, col=counter % cols + 1);\n",
    "    \n",
    "    fig_b = px.line(data, x=data.index, y=data.columns[0])\n",
    "    fig_b.update_traces(line_color='#0000ff', line_width=1, hovertemplate='Adj Close=%{y}<extra></extra>')\n",
    "    fig_r = px.line(valid, x=valid.index, y='Predictions')\n",
    "    fig_r.update_traces(line_color='#ff0000' if premium>0 else '#00ff00', line_width=abs(premium)+1, opacity=min([1, (abs(premium)/rmse) ** .5]), hovertemplate='Predictions=%{y}<extra></extra>')\n",
    "    fig.add_trace(fig_r.data[0], row=counter//cols+1, col=counter % cols + 1);\n",
    "    fig.add_trace(fig_b.data[0], row=counter//cols+1, col=counter % cols + 1);\n",
    "    if fund in idx['LBAND'].columns:\n",
    "        fig.add_trace(fig_l.data[0], row=counter//cols+1, col=counter % cols + 1); # So it'd be at the bottom of hover screen\n",
    "    clear_output(wait=True)\n",
    "    \n",
    "    target = ((idx.Low / idx.Open).quantile(0.3) * idx.Open).iloc[-1][fund] if not fund in ['sharpe', 'sortino'] else 0\n",
    "    text = f\"{fund}: {premium:.1f}% premium ({rmse:.1f} rmse). Predict: {valid.iloc[-1, 1]:.2f}.\"\n",
    "    if not fund in ['sharpe', 'sortino']:\n",
    "        text = text + f\" Buy: {target:.2f}\"\n",
    "    fig.layout['annotations'][counter].update({\"text\": text})\n",
    "    fig.update_yaxes(type=\"log\")\n",
    "\n",
    "    fig.update_layout(height=60*len(prices.columns)+60*counter, width=1450, margin=dict(l=10, r=10, b=10, t=30), template=template,\n",
    "            xaxis=dict(spikecolor=\"white\", spikethickness=.25, spikedash='dash', spikemode='toaxis+across+marker', spikesnap='cursor'),\n",
    "        spikedistance=4, hovermode='x unified', legend_traceorder=\"normal\")\n",
    "\n",
    "    counter += 1\n",
    "    fig.show();\n",
    "\n",
    "summary[\"current\"] = currents[:summary.shape[0]]\n",
    "summary[\"predict\"] = predicts[:summary.shape[0]]\n",
    "summary[\"premium\"] = premiums[:summary.shape[0]]\n",
    "summary[\"rmse\"] = rmses[:summary.shape[0]]"
   ]
  },
  {
   "cell_type": "code",
   "execution_count": 22,
   "id": "23460c77-38d5-4fde-973c-faa4fbc455b6",
   "metadata": {
    "jupyter": {
     "source_hidden": true
    },
    "tags": []
   },
   "outputs": [
    {
     "data": {
      "text/html": [
       "<iframe\n",
       "    scrolling=\"no\"\n",
       "    width=\"100%\"\n",
       "    height=\"545px\"\n",
       "    src=\"iframe_figures/figure_22.html\"\n",
       "    frameborder=\"0\"\n",
       "    allowfullscreen\n",
       "></iframe>\n"
      ]
     },
     "metadata": {},
     "output_type": "display_data"
    }
   ],
   "source": [
    "ms = range(20, 101, 10)\n",
    "dfmd = pd.DataFrame(index = ms, columns=idx['Adj Close'].columns)\n",
    "\n",
    "for finish in ms:\n",
    "    n, best = min([3, len(idx['Adj Close'].columns)//2]), {c:0 for c in idx['Adj Close'].columns}\n",
    "    for v in range(100):\n",
    "        t0 = int(v * (prices.shape[0] * finish / 100 / 100)) # Starting time for comparison\n",
    "        df = (prices.iloc[:int((prices.shape[0] * finish / 100))] / prices.iloc[t0]).dropna() # DataFrame normalized against Starting time prices\n",
    "        if t0 + 1 >= df.shape[0]:\n",
    "            continue\n",
    "        ratios = ann_risk_return(df.iloc[int(v * (df.shape[0] / 100)):])['Return'][:-2] * 100\n",
    "        for x in ratios.nlargest(n).index:\n",
    "            best[x] = 1 if not x in best else best[x]+1\n",
    "    summary['Top'] = [best[x] for x in sorted(best)] # Sample 100 intervals' to date for top N returns\n",
    "    weight = 'weight' if model == 'Sharpe' else 'weight1'\n",
    "    dfmd.loc[finish] = [best[x] for x in sorted(best)]\n",
    "    \n",
    "dfmd.index = [str(prices.iloc[int(prices.shape[0] * x / 100)].name)[:10] for x in range(10, 100, 10)]\n",
    "px.imshow(dfmd.T, template=template, color_continuous_scale=px.colors.sequential.Viridis, color_continuous_midpoint=55,\n",
    "          title=f\"In Top {n} Performers {dfmd.index[0]} ... {dfmd.index[-1]}\")"
   ]
  },
  {
   "cell_type": "raw",
   "id": "7b26b6d2-b285-4a55-af78-044b26679dfc",
   "metadata": {
    "tags": []
   },
   "source": [
    "slider = widgets.IntSlider(min=20, max=100, value=100, step=20)\n",
    "def print_val(finish):\n",
    "    n, best = min([3, len(idx['Adj Close'].columns)//2]), {c:0 for c in idx['Adj Close'].columns}\n",
    "    for v in range(100):\n",
    "        t0 = int(v * (prices.shape[0] * finish / 100 / 100)) # Starting time for comparison\n",
    "        df = (prices.iloc[:int((prices.shape[0] * finish / 100))] / prices.iloc[t0]).dropna() # DataFrame normalized against Starting time prices\n",
    "        ratios = ann_risk_return(df.iloc[int(v * (df.shape[0] / 100)):])['Return'][:-2] * 100\n",
    "        largest_values = ratios.nlargest(n)\n",
    "        for x in largest_values.index:\n",
    "            best[x] = 1 if not x in best else best[x]+1\n",
    "    weight = 'weight' if model == 'Sharpe' else 'weight1'\n",
    "    return px.bar(summary, title=f\"In Top {n} Performers {str(df.iloc[0].name)[:10]} ... {str(df.iloc[-1].name)[:10]}\", color=category,\n",
    "                  y=[best[x] for x in sorted(best)], template=template, opacity=[(x/max(summary[weight]))**.5 for x in summary[weight]])\n",
    "interact(print_val,finish=slider);"
   ]
  },
  {
   "cell_type": "markdown",
   "id": "85261cf4-97af-4d0a-b663-43324e0d7790",
   "metadata": {
    "jp-MarkdownHeadingCollapsed": true,
    "tags": []
   },
   "source": [
    "## Correlations ##"
   ]
  },
  {
   "cell_type": "raw",
   "id": "12d96a56-aa42-4c06-bda2-c412ab93d9f3",
   "metadata": {
    "tags": []
   },
   "source": [
    "# Price correlation\n",
    "def reg_coef(x, y, label=None, color=None, cmap=None, **kwargs):\n",
    "    ax = plt.gca()\n",
    "    r, _ = stats.pearsonr(x, y)\n",
    "    norm = plt.Normalize(-1, 1)\n",
    "    cmap = cmap if not cmap is None else plt.cm.coolwarm\n",
    "    ax.annotate(f\"{r:.2f}\", xy=(0.5, 0.5), xycoords='axes fraction', ha='center', fontsize=16, bbox={'facecolor': cmap(norm(r)), 'alpha': r**4})\n",
    "    ax.set_axis_off()\n",
    "\n",
    "return_fig = sns.PairGrid(prices)\n",
    "# Using map_upper we can specify what the upper triangle will look like.\n",
    "return_fig.map_upper(plt.scatter, color='purple')\n",
    "return_fig.map_upper(reg_coef, cmap=plt.get_cmap('PiYG'))\n",
    "\n",
    "# We can also define the lower triangle in the figure, inclufing the plot type (kde) or the color map (BluePurple)\n",
    "return_fig.map_lower(sns.kdeplot, cmap='cool_d')\n",
    "# Finally we'll define the diagonal as a series of histogram plots of the daily return\n",
    "return_fig.fig.suptitle('Price Correlation', fontsize=24)\n",
    "return_fig.map_diag(plt.hist, bins=24);"
   ]
  },
  {
   "cell_type": "markdown",
   "id": "33bb6c51-a371-490e-aef5-ad58a1bd8159",
   "metadata": {},
   "source": [
    "---"
   ]
  },
  {
   "cell_type": "markdown",
   "id": "379ddc03-860b-4682-a15a-83a47038af3f",
   "metadata": {
    "jp-MarkdownHeadingCollapsed": true,
    "tags": []
   },
   "source": [
    "## Screener"
   ]
  },
  {
   "cell_type": "code",
   "execution_count": 23,
   "id": "21e6d1c3-fb11-4e6e-920c-38001bf411c4",
   "metadata": {
    "jupyter": {
     "source_hidden": true
    },
    "tags": []
   },
   "outputs": [
    {
     "data": {
      "text/plain": [
       "'BITQ BKCH CBLS CTA DAPP FDIG FTLS FUTY FXU GAA HAWX HFXI IAK IAT IBB IHF IYG JHMU KBE KIE LBAY PBP PDP PEX PSCU PUI PWV SATO SLYV SPDW SPEM SPGP SPMD SPMO SPTM VAMO XLF XLI XLK XLV XMHQ XMVM XSVM'"
      ]
     },
     "execution_count": 23,
     "metadata": {},
     "output_type": "execute_result"
    }
   ],
   "source": [
    "droplist = \" \".join((TEST, \" \".join((categories.values()))))\n",
    "shortlist = []\n",
    "for r in recommendations.values():\n",
    "    for v in r.values():\n",
    "        if v=='No data found':\n",
    "            continue\n",
    "        for rec in v['recommendedSymbols']:\n",
    "            if not (rec['symbol'] in droplist):\n",
    "                shortlist.append(rec['symbol'])\n",
    "profiles = {n:Ticker(n).fund_profile[n] for n in shortlist}\n",
    "for prop in ['maxAge', 'styleBoxUrl']:\n",
    "    for k,v in profiles.items():\n",
    "        if prop in v:\n",
    "            del v[prop]\n",
    "shortlist = [p for p, v in profiles.items() if 'categoryName' in v and not 'Leveraged' in v['categoryName']]\n",
    "\" \".join(sorted({*shortlist}))"
   ]
  },
  {
   "cell_type": "code",
   "execution_count": 24,
   "id": "070ff3a9-8b21-4fc0-a95a-23bf9c8f2990",
   "metadata": {
    "jupyter": {
     "source_hidden": true
    },
    "tags": []
   },
   "outputs": [
    {
     "name": "stdout",
     "output_type": "stream",
     "text": [
      "Local cdn resources have problems on chrome/safari when used in jupyter-notebook. \n"
     ]
    },
    {
     "data": {
      "text/html": [
       "\n",
       "        <iframe\n",
       "            width=\"100%\"\n",
       "            height=\"800px\"\n",
       "            src=\"recommendations.html\"\n",
       "            frameborder=\"0\"\n",
       "            allowfullscreen\n",
       "            \n",
       "        ></iframe>\n",
       "        "
      ],
      "text/plain": [
       "<IPython.lib.display.IFrame at 0x7f8092c09590>"
      ]
     },
     "execution_count": 24,
     "metadata": {},
     "output_type": "execute_result"
    }
   ],
   "source": [
    "# Recommendations\n",
    "g = net.Network(notebook=True, bgcolor='#111111', font_color='white', width=\"100%\", height=\"800px\")#, cdn_resources='in_line')\n",
    "g.repulsion()\n",
    "g.physics = \"forceAtlas2Based\"\n",
    "nxg=nx.complete_graph(0)\n",
    "for n in summary.index:\n",
    "    kw = {'label':n, 'shape':'box'}\n",
    "    kw['group'] = summary.loc[n]['category']\n",
    "    kw['title'] = textwrap.fill(funds[n]['summaryProfile'].get('longBusinessSummary', funds[n]['summaryProfile'].get('description')), 60)\n",
    "    nxg.add_node(n, **kw)\n",
    "    if list(recommendations[n].values()) == ['No data found']:\n",
    "        continue\n",
    "    for h in list(recommendations[n].values())[0]['recommendedSymbols']:\n",
    "        if not h['symbol'] in shortlist:\n",
    "            continue\n",
    "        nxg.add_node(h['symbol'], label=h['symbol'], shape='text', title=json.dumps(profiles[h['symbol']], indent=2))\n",
    "        nxg.add_edge(n, h['symbol'], value=h['score'], title=100*h['score'])\n",
    "g.from_nx(nxg)\n",
    "g.show(\"recommendations.html\")"
   ]
  },
  {
   "cell_type": "code",
   "execution_count": 25,
   "id": "bd504830-d39a-436b-b2a7-7b40ab7f9cd3",
   "metadata": {
    "jupyter": {
     "source_hidden": true
    },
    "scrolled": true,
    "tags": []
   },
   "outputs": [
    {
     "name": "stdout",
     "output_type": "stream",
     "text": [
      "['best_hist_performance_etfs', 'bond_etfs', 'cheapest_etfs', 'commodity_etfs', 'day_gainers_etfs', 'day_losers_etfs', 'fifty_two_wk_gainers_etfs', 'fifty_two_wk_losers_etfs', 'high_growth_large_etfs', 'large_blend_etfs', 'most_actives_etfs', 'precious_metal_etfs', 'sp_500_etfs', 'technology_etfs', 'top_etfs', 'top_etfs_hk', 'top_etfs_in', 'top_etfs_us', 'top_performing_etfs']\n"
     ]
    }
   ],
   "source": [
    "s = Screener()\n",
    "print([x for x in s.available_screeners if 'etf' in x and not 'asia' in x and not 'europe' in x])"
   ]
  },
  {
   "cell_type": "raw",
   "id": "a7d6e682-185e-436f-b7f1-71801cfe0b7b",
   "metadata": {},
   "source": [
    "print(json.dumps(s.get_screeners(['top_etfs_us', 'cheapest_etfs', 'fifty_two_wk_losers_etfs', 'precious_metal_etfs', 'top_performing_etfs'], 5), indent=2))"
   ]
  },
  {
   "cell_type": "code",
   "execution_count": 26,
   "id": "52edc60d-7d81-4058-a909-c54e05a02062",
   "metadata": {
    "jupyter": {
     "source_hidden": true
    },
    "tags": []
   },
   "outputs": [
    {
     "ename": "TypeError",
     "evalue": "string indices must be integers, not 'str'",
     "output_type": "error",
     "traceback": [
      "\u001b[0;31m---------------------------------------------------------------------------\u001b[0m",
      "\u001b[0;31mTypeError\u001b[0m                                 Traceback (most recent call last)",
      "Cell \u001b[0;32mIn[26], line 18\u001b[0m\n\u001b[1;32m     12\u001b[0m     \u001b[38;5;28;01mreturn\u001b[39;00m [\u001b[38;5;124m'\u001b[39m\u001b[38;5;124mbackground-color: lightgreen\u001b[39m\u001b[38;5;124m'\u001b[39m]\u001b[38;5;241m*\u001b[39m\u001b[38;5;28mlen\u001b[39m(row\u001b[38;5;241m.\u001b[39mvalues) \u001b[38;5;28;01mif\u001b[39;00m \u001b[38;5;124m'\u001b[39m\u001b[38;5;124mChangePercent\u001b[39m\u001b[38;5;124m'\u001b[39m \u001b[38;5;129;01min\u001b[39;00m row\u001b[38;5;241m.\u001b[39mname \u001b[38;5;28;01melse\u001b[39;00m [\u001b[38;5;124m'\u001b[39m\u001b[38;5;124m'\u001b[39m]\u001b[38;5;241m*\u001b[39m\u001b[38;5;28mlen\u001b[39m(row\u001b[38;5;241m.\u001b[39mvalues)\n\u001b[1;32m     14\u001b[0m droprows\u001b[38;5;241m=\u001b[39m[\u001b[38;5;124m\"\u001b[39m\u001b[38;5;124mshortName\u001b[39m\u001b[38;5;124m\"\u001b[39m, \u001b[38;5;124m'\u001b[39m\u001b[38;5;124mexchange\u001b[39m\u001b[38;5;124m'\u001b[39m, \u001b[38;5;124m'\u001b[39m\u001b[38;5;124mfirstTradeDateMilliseconds\u001b[39m\u001b[38;5;124m'\u001b[39m, \u001b[38;5;124m'\u001b[39m\u001b[38;5;124mmessageBoardId\u001b[39m\u001b[38;5;124m'\u001b[39m, \u001b[38;5;124m'\u001b[39m\u001b[38;5;124mdividendDate\u001b[39m\u001b[38;5;124m'\u001b[39m, \u001b[38;5;124m'\u001b[39m\u001b[38;5;124mfiftyTwoWeekLowChangePercent\u001b[39m\u001b[38;5;124m'\u001b[39m,\n\u001b[1;32m     15\u001b[0m           \u001b[38;5;124m'\u001b[39m\u001b[38;5;124mfiftyTwoWeekHighChangePercent\u001b[39m\u001b[38;5;124m'\u001b[39m, \u001b[38;5;124m'\u001b[39m\u001b[38;5;124mfiftyDayAverageChangePercent\u001b[39m\u001b[38;5;124m'\u001b[39m, \u001b[38;5;124m'\u001b[39m\u001b[38;5;124mtwoHundredDayAverageChangePercent\u001b[39m\u001b[38;5;124m'\u001b[39m, \u001b[38;5;124m'\u001b[39m\u001b[38;5;124mfiftyTwoWeekLowChange\u001b[39m\u001b[38;5;124m'\u001b[39m,\n\u001b[1;32m     16\u001b[0m           \u001b[38;5;124m'\u001b[39m\u001b[38;5;124mfiftyTwoWeekHighChange\u001b[39m\u001b[38;5;124m'\u001b[39m, \u001b[38;5;124m'\u001b[39m\u001b[38;5;124mregularMarketChange\u001b[39m\u001b[38;5;124m'\u001b[39m, \u001b[38;5;124m'\u001b[39m\u001b[38;5;124misEarningsDateEstimate\u001b[39m\u001b[38;5;124m'\u001b[39m, \u001b[38;5;124m'\u001b[39m\u001b[38;5;124mpostMarketChangePercent\u001b[39m\u001b[38;5;124m'\u001b[39m, \u001b[38;5;124m'\u001b[39m\u001b[38;5;124maskSize\u001b[39m\u001b[38;5;124m'\u001b[39m, \u001b[38;5;124m'\u001b[39m\u001b[38;5;124mbidSize\u001b[39m\u001b[38;5;124m'\u001b[39m,\n\u001b[1;32m     17\u001b[0m           \u001b[38;5;124m'\u001b[39m\u001b[38;5;124mipoExpectedDate\u001b[39m\u001b[38;5;124m'\u001b[39m, \u001b[38;5;124m'\u001b[39m\u001b[38;5;124mepsTrailingTwelveMonths\u001b[39m\u001b[38;5;124m'\u001b[39m, \u001b[38;5;124m'\u001b[39m\u001b[38;5;124msharesOutstanding\u001b[39m\u001b[38;5;124m'\u001b[39m, \u001b[38;5;124m'\u001b[39m\u001b[38;5;124mbookValue\u001b[39m\u001b[38;5;124m'\u001b[39m, \u001b[38;5;124m'\u001b[39m\u001b[38;5;124mmarketCap\u001b[39m\u001b[38;5;124m'\u001b[39m, \u001b[38;5;124m'\u001b[39m\u001b[38;5;124mnetAssets\u001b[39m\u001b[38;5;124m'\u001b[39m]\n\u001b[0;32m---> 18\u001b[0m quotes \u001b[38;5;241m=\u001b[39m \u001b[43m[\u001b[49m\u001b[43mi\u001b[49m\u001b[43m \u001b[49m\u001b[38;5;28;43;01mfor\u001b[39;49;00m\u001b[43m \u001b[49m\u001b[43mq\u001b[49m\u001b[43m \u001b[49m\u001b[38;5;129;43;01min\u001b[39;49;00m\u001b[43m \u001b[49m\u001b[43ms\u001b[49m\u001b[38;5;241;43m.\u001b[39;49m\u001b[43mget_screeners\u001b[49m\u001b[43m(\u001b[49m\u001b[43mscreener\u001b[49m\u001b[43m,\u001b[49m\u001b[43m \u001b[49m\u001b[38;5;241;43m48\u001b[39;49m\u001b[43m)\u001b[49m\u001b[38;5;241;43m.\u001b[39;49m\u001b[43mvalues\u001b[49m\u001b[43m(\u001b[49m\u001b[43m)\u001b[49m\u001b[43m \u001b[49m\u001b[38;5;28;43;01mfor\u001b[39;49;00m\u001b[43m \u001b[49m\u001b[43mi\u001b[49m\u001b[43m \u001b[49m\u001b[38;5;129;43;01min\u001b[39;49;00m\u001b[43m \u001b[49m\u001b[43mq\u001b[49m\u001b[43m[\u001b[49m\u001b[38;5;124;43m'\u001b[39;49m\u001b[38;5;124;43mquotes\u001b[39;49m\u001b[38;5;124;43m'\u001b[39;49m\u001b[43m]\u001b[49m\u001b[43m \u001b[49m\u001b[38;5;28;43;01mif\u001b[39;49;00m\u001b[43m \u001b[49m\u001b[38;5;129;43;01mnot\u001b[39;49;00m\u001b[43m \u001b[49m\u001b[43mi\u001b[49m\u001b[43m[\u001b[49m\u001b[38;5;124;43m'\u001b[39;49m\u001b[38;5;124;43msymbol\u001b[39;49m\u001b[38;5;124;43m'\u001b[39;49m\u001b[43m]\u001b[49m\u001b[43m \u001b[49m\u001b[38;5;129;43;01min\u001b[39;49;00m\u001b[43m \u001b[49m\u001b[43mdroplist\u001b[49m\u001b[43m]\u001b[49m\n\u001b[1;32m     19\u001b[0m df \u001b[38;5;241m=\u001b[39m pd\u001b[38;5;241m.\u001b[39mjson_normalize(quotes)\u001b[38;5;241m.\u001b[39mset_index(\u001b[38;5;124m'\u001b[39m\u001b[38;5;124msymbol\u001b[39m\u001b[38;5;124m'\u001b[39m)\u001b[38;5;241m.\u001b[39mT\n\u001b[1;32m     20\u001b[0m df\u001b[38;5;241m.\u001b[39mdrop(df\u001b[38;5;241m.\u001b[39mindex[:\u001b[38;5;241m7\u001b[39m], inplace\u001b[38;5;241m=\u001b[39m\u001b[38;5;28;01mTrue\u001b[39;00m)\n",
      "Cell \u001b[0;32mIn[26], line 18\u001b[0m, in \u001b[0;36m<listcomp>\u001b[0;34m(.0)\u001b[0m\n\u001b[1;32m     12\u001b[0m     \u001b[38;5;28;01mreturn\u001b[39;00m [\u001b[38;5;124m'\u001b[39m\u001b[38;5;124mbackground-color: lightgreen\u001b[39m\u001b[38;5;124m'\u001b[39m]\u001b[38;5;241m*\u001b[39m\u001b[38;5;28mlen\u001b[39m(row\u001b[38;5;241m.\u001b[39mvalues) \u001b[38;5;28;01mif\u001b[39;00m \u001b[38;5;124m'\u001b[39m\u001b[38;5;124mChangePercent\u001b[39m\u001b[38;5;124m'\u001b[39m \u001b[38;5;129;01min\u001b[39;00m row\u001b[38;5;241m.\u001b[39mname \u001b[38;5;28;01melse\u001b[39;00m [\u001b[38;5;124m'\u001b[39m\u001b[38;5;124m'\u001b[39m]\u001b[38;5;241m*\u001b[39m\u001b[38;5;28mlen\u001b[39m(row\u001b[38;5;241m.\u001b[39mvalues)\n\u001b[1;32m     14\u001b[0m droprows\u001b[38;5;241m=\u001b[39m[\u001b[38;5;124m\"\u001b[39m\u001b[38;5;124mshortName\u001b[39m\u001b[38;5;124m\"\u001b[39m, \u001b[38;5;124m'\u001b[39m\u001b[38;5;124mexchange\u001b[39m\u001b[38;5;124m'\u001b[39m, \u001b[38;5;124m'\u001b[39m\u001b[38;5;124mfirstTradeDateMilliseconds\u001b[39m\u001b[38;5;124m'\u001b[39m, \u001b[38;5;124m'\u001b[39m\u001b[38;5;124mmessageBoardId\u001b[39m\u001b[38;5;124m'\u001b[39m, \u001b[38;5;124m'\u001b[39m\u001b[38;5;124mdividendDate\u001b[39m\u001b[38;5;124m'\u001b[39m, \u001b[38;5;124m'\u001b[39m\u001b[38;5;124mfiftyTwoWeekLowChangePercent\u001b[39m\u001b[38;5;124m'\u001b[39m,\n\u001b[1;32m     15\u001b[0m           \u001b[38;5;124m'\u001b[39m\u001b[38;5;124mfiftyTwoWeekHighChangePercent\u001b[39m\u001b[38;5;124m'\u001b[39m, \u001b[38;5;124m'\u001b[39m\u001b[38;5;124mfiftyDayAverageChangePercent\u001b[39m\u001b[38;5;124m'\u001b[39m, \u001b[38;5;124m'\u001b[39m\u001b[38;5;124mtwoHundredDayAverageChangePercent\u001b[39m\u001b[38;5;124m'\u001b[39m, \u001b[38;5;124m'\u001b[39m\u001b[38;5;124mfiftyTwoWeekLowChange\u001b[39m\u001b[38;5;124m'\u001b[39m,\n\u001b[1;32m     16\u001b[0m           \u001b[38;5;124m'\u001b[39m\u001b[38;5;124mfiftyTwoWeekHighChange\u001b[39m\u001b[38;5;124m'\u001b[39m, \u001b[38;5;124m'\u001b[39m\u001b[38;5;124mregularMarketChange\u001b[39m\u001b[38;5;124m'\u001b[39m, \u001b[38;5;124m'\u001b[39m\u001b[38;5;124misEarningsDateEstimate\u001b[39m\u001b[38;5;124m'\u001b[39m, \u001b[38;5;124m'\u001b[39m\u001b[38;5;124mpostMarketChangePercent\u001b[39m\u001b[38;5;124m'\u001b[39m, \u001b[38;5;124m'\u001b[39m\u001b[38;5;124maskSize\u001b[39m\u001b[38;5;124m'\u001b[39m, \u001b[38;5;124m'\u001b[39m\u001b[38;5;124mbidSize\u001b[39m\u001b[38;5;124m'\u001b[39m,\n\u001b[1;32m     17\u001b[0m           \u001b[38;5;124m'\u001b[39m\u001b[38;5;124mipoExpectedDate\u001b[39m\u001b[38;5;124m'\u001b[39m, \u001b[38;5;124m'\u001b[39m\u001b[38;5;124mepsTrailingTwelveMonths\u001b[39m\u001b[38;5;124m'\u001b[39m, \u001b[38;5;124m'\u001b[39m\u001b[38;5;124msharesOutstanding\u001b[39m\u001b[38;5;124m'\u001b[39m, \u001b[38;5;124m'\u001b[39m\u001b[38;5;124mbookValue\u001b[39m\u001b[38;5;124m'\u001b[39m, \u001b[38;5;124m'\u001b[39m\u001b[38;5;124mmarketCap\u001b[39m\u001b[38;5;124m'\u001b[39m, \u001b[38;5;124m'\u001b[39m\u001b[38;5;124mnetAssets\u001b[39m\u001b[38;5;124m'\u001b[39m]\n\u001b[0;32m---> 18\u001b[0m quotes \u001b[38;5;241m=\u001b[39m [i \u001b[38;5;28;01mfor\u001b[39;00m q \u001b[38;5;129;01min\u001b[39;00m s\u001b[38;5;241m.\u001b[39mget_screeners(screener, \u001b[38;5;241m48\u001b[39m)\u001b[38;5;241m.\u001b[39mvalues() \u001b[38;5;28;01mfor\u001b[39;00m i \u001b[38;5;129;01min\u001b[39;00m \u001b[43mq\u001b[49m\u001b[43m[\u001b[49m\u001b[38;5;124;43m'\u001b[39;49m\u001b[38;5;124;43mquotes\u001b[39;49m\u001b[38;5;124;43m'\u001b[39;49m\u001b[43m]\u001b[49m \u001b[38;5;28;01mif\u001b[39;00m \u001b[38;5;129;01mnot\u001b[39;00m i[\u001b[38;5;124m'\u001b[39m\u001b[38;5;124msymbol\u001b[39m\u001b[38;5;124m'\u001b[39m] \u001b[38;5;129;01min\u001b[39;00m droplist]\n\u001b[1;32m     19\u001b[0m df \u001b[38;5;241m=\u001b[39m pd\u001b[38;5;241m.\u001b[39mjson_normalize(quotes)\u001b[38;5;241m.\u001b[39mset_index(\u001b[38;5;124m'\u001b[39m\u001b[38;5;124msymbol\u001b[39m\u001b[38;5;124m'\u001b[39m)\u001b[38;5;241m.\u001b[39mT\n\u001b[1;32m     20\u001b[0m df\u001b[38;5;241m.\u001b[39mdrop(df\u001b[38;5;241m.\u001b[39mindex[:\u001b[38;5;241m7\u001b[39m], inplace\u001b[38;5;241m=\u001b[39m\u001b[38;5;28;01mTrue\u001b[39;00m)\n",
      "\u001b[0;31mTypeError\u001b[0m: string indices must be integers, not 'str'"
     ]
    }
   ],
   "source": [
    "screener = ['fifty_two_wk_losers_etfs', 'cheapest_etfs', 'top_etfs_us'] #'top_performing_etfs', 'precious_metal_etfs'\n",
    "def g(row):\n",
    "    return [str(r) for r in row.values]\n",
    "    \n",
    "def bold_row(row):\n",
    "    return ['font-weight: bold' if 'ChangePercent' in row.name else '' for v in row]\n",
    "\n",
    "def bold_index(s):\n",
    "    return '<b>{}</b>'.format(s)\n",
    "\n",
    "def h_hi(row):\n",
    "    return ['background-color: lightgreen']*len(row.values) if 'ChangePercent' in row.name else ['']*len(row.values)\n",
    "\n",
    "droprows=[\"shortName\", 'exchange', 'firstTradeDateMilliseconds', 'messageBoardId', 'dividendDate', 'fiftyTwoWeekLowChangePercent',\n",
    "          'fiftyTwoWeekHighChangePercent', 'fiftyDayAverageChangePercent', 'twoHundredDayAverageChangePercent', 'fiftyTwoWeekLowChange',\n",
    "          'fiftyTwoWeekHighChange', 'regularMarketChange', 'isEarningsDateEstimate', 'postMarketChangePercent', 'askSize', 'bidSize',\n",
    "          'ipoExpectedDate', 'epsTrailingTwelveMonths', 'sharesOutstanding', 'bookValue', 'marketCap', 'netAssets']\n",
    "quotes = [i for q in s.get_screeners(screener, 48).values() for i in q['quotes'] if not i['symbol'] in droplist]\n",
    "df = pd.json_normalize(quotes).set_index('symbol').T\n",
    "df.drop(df.index[:7], inplace=True)\n",
    "df.drop([c for c in df.index if 'Time' in c], inplace=True)\n",
    "df.dropna(axis=1, subset=['longName'], inplace=True)\n",
    "\n",
    "regex = re.compile('|'.join(['everage', \"Ether\", 'Bitcoin', 'Bond', \"Ultra\", \"Short\", \"Long\", 'Hedge', 'Option', 'Covered Call', 'Treasury',\n",
    "                             \"Trust\", \"Daily\", \"Monthly\", 'Weekly', 'Asia', 'China', 'Emerging', 'iShares MSCI']))\n",
    "df.drop(columns=df.columns[df.loc['longName'].str.contains(regex)], axis=1, inplace=True)\n",
    "\n",
    "for i in df.index:\n",
    "    if 1 == len(set(g(df.loc[i,:]))):\n",
    "        droprows.append(i)\n",
    "df.drop(droprows, inplace=True, errors='ignore')\n",
    "df = df.sort_values(by=['fiftyTwoWeekChangePercent'], axis=1, ascending=False)\n",
    "df = df.fillna('')\n",
    "\n",
    "df.drop(droplist, axis=1, errors='ignore', inplace=True)\n",
    "df.head(60).style.apply(h_max, axis=1).apply(h_min, axis=1).apply(bold_row, axis=1).apply(h_hi, axis=1)"
   ]
  },
  {
   "cell_type": "code",
   "execution_count": null,
   "id": "819f3d97-5547-4a8f-81d4-1f1c8628092f",
   "metadata": {
    "jupyter": {
     "source_hidden": true
    }
   },
   "outputs": [],
   "source": [
    "\" \".join(df.columns)"
   ]
  },
  {
   "cell_type": "markdown",
   "id": "c3c879ca-7f45-4ec9-8e26-e0f0be6637d3",
   "metadata": {
    "jp-MarkdownHeadingCollapsed": true,
    "tags": []
   },
   "source": [
    "## Algo Return"
   ]
  },
  {
   "cell_type": "code",
   "execution_count": null,
   "id": "0544b96e-a9cc-4112-9d48-42c24e3e4c66",
   "metadata": {
    "jupyter": {
     "source_hidden": true
    },
    "tags": []
   },
   "outputs": [],
   "source": [
    "algo=(1 + idx['Adj Close'].pct_change() * idx['position_ema'].shift(1)).cumprod()\n",
    "px.line(algo, template=template, log_y=True, title=\"Algo EMA\")"
   ]
  },
  {
   "cell_type": "code",
   "execution_count": null,
   "id": "44aa2861-4436-481b-b75b-4a21ee72d135",
   "metadata": {
    "jupyter": {
     "source_hidden": true
    },
    "tags": []
   },
   "outputs": [],
   "source": [
    "algo=(1 + idx['Adj Close'].pct_change() * idx['position_rsi'].shift(1)).cumprod()\n",
    "px.line(algo, template=template, log_y=True, title=\"Algo RSI\")"
   ]
  },
  {
   "cell_type": "code",
   "execution_count": null,
   "id": "feecc9f7-12cf-492e-8ca5-80cd19eabc0e",
   "metadata": {
    "jupyter": {
     "source_hidden": true
    },
    "tags": []
   },
   "outputs": [],
   "source": [
    "# def calc_positions_ichimoku(d):\n",
    "#     global idx\n",
    "#     columns = d['Low'].columns\n",
    "#     condition = np.where(\n",
    "#         # (d['Close'] > d['tenkan_sen']) & (d['tenkan_sen'] > d['kijun_sen']) &\n",
    "#         ((d['Close'] > d['tenkan_sen']) & (d['Close'] > d['kijun_sen'])) & (d['tenkan_sen'] > d['kijun_sen']) &\n",
    "#         (\n",
    "#             ((d['Close'] > d['senkou_span_a']) & (d['Close'] > d['senkou_span_b'])) |\n",
    "#             ((d['Close'] < d['senkou_span_a']) & (d['Close'] < d['senkou_span_b']) & (d['senkou_span_a'] < d['senkou_span_b']))\n",
    "#         ), 0, 1\n",
    "#     )\n",
    "#     sgn = pd.DataFrame(condition, columns=columns, index=d.index)\n",
    "#     sgn.columns = pd.MultiIndex.from_product([['signal_ichimoku'], columns])\n",
    "#     pos = sgn.diff().fillna(0)\n",
    "#     pos.columns = pd.MultiIndex.from_product([['position_ichimoku'], columns])\n",
    "#     idx.drop(columns='signal_ichimoku', inplace=True, errors='ignore')\n",
    "#     idx.drop(columns='position_ichimoku', inplace=True, errors='ignore')\n",
    "#     idx = idx.join(pos)\n",
    "#     idx = idx.join(sgn)\n",
    "# calc_positions_ichimoku(idx)\n",
    "\n",
    "algo=(1 + idx['Adj Close'].pct_change() * idx['position_ichimoku'].shift(1)).cumprod()\n",
    "px.line(algo, template=template, log_y=True, title=\"Algo Ichimoku\")"
   ]
  },
  {
   "cell_type": "markdown",
   "id": "9e45dd3e-3c33-4998-9e10-91662301fce1",
   "metadata": {
    "tags": []
   },
   "source": [
    "## Timestamp"
   ]
  },
  {
   "cell_type": "code",
   "execution_count": null,
   "id": "4546d0d5-8c29-4f60-a668-917adf077d0d",
   "metadata": {
    "jupyter": {
     "source_hidden": true
    },
    "tags": []
   },
   "outputs": [],
   "source": [
    "datetime.datetime.now().strftime(\"%Y-%m-%d %H:%M:%S\")"
   ]
  }
 ],
 "metadata": {
  "kernelspec": {
   "display_name": ".conda-fin:Python",
   "language": "python",
   "name": "conda-env-.conda-fin-py"
  },
  "language_info": {
   "codemirror_mode": {
    "name": "ipython",
    "version": 3
   },
   "file_extension": ".py",
   "mimetype": "text/x-python",
   "name": "python",
   "nbconvert_exporter": "python",
   "pygments_lexer": "ipython3",
   "version": "3.11.10"
  },
  "widgets": {
   "application/vnd.jupyter.widget-state+json": {
    "state": {},
    "version_major": 2,
    "version_minor": 0
   }
  }
 },
 "nbformat": 4,
 "nbformat_minor": 5
}
